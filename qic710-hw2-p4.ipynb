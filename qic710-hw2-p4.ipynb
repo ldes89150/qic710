{
 "cells": [
  {
   "cell_type": "code",
   "execution_count": 1,
   "metadata": {
    "collapsed": true
   },
   "outputs": [],
   "source": [
    "# Student ID: 20753428\n",
    "from qutip import *\n",
    "from qutip.qip.algorithms.qft import *\n",
    "import numpy as np\n",
    "from IPython.display import *"
   ]
  },
  {
   "cell_type": "markdown",
   "metadata": {},
   "source": [
    "# Problem 4\n",
    "In this problem, we use the same notation in problem 3. Also, for simplicity, we have\n",
    "$$\\left | d \\right > = \\left | 0 \\right >$$\n",
    "\n",
    "\n",
    "## (a)\n",
    "$$\n",
    "F_d X_d F_d^{-1}\\left |x \\right > = F_d X_d  \\frac{1}{\\sqrt{d}}\\sum_{y=0}^{d-1} e^{-2\\pi i \\frac{x}{d}y} \\left| y  \\right > \\\\\n",
    "= F_d   \\frac{1}{\\sqrt{d}}\\sum_{y=0}^{d-1} e^{-2\\pi i \\frac{x}{d}y} \\left| y+1  \\right > \\\\\n",
    "= F_d   \\frac{1}{\\sqrt{d}}\\sum_{y=0}^{d-1} e^{2\\pi i \\frac{x}{d}} e^{-2\\pi i \\frac{x}{d}(y+1)} \\left| y+1  \\right >\\\\\n",
    "= e^{2\\pi i \\frac{x}{d}} \\left |x \\right >\\\\\n",
    "= Z_d \\left |x \\right >\n",
    "$$\n",
    "Thus,\n",
    "$$F_d X_d F_d^{-1} = Z_d $$\n",
    "\n",
    "\n",
    "Similarly, we have\n",
    "$$\n",
    "F_d Z_d F_d^{-1}\\left |x \\right > = F_d Z_d  \\frac{1}{\\sqrt{d}}\\sum_{y=0}^{d-1} e^{-2\\pi i \\frac{x}{d}y} \\left| y  \\right > \\\\\n",
    "= F_d   \\frac{1}{\\sqrt{d}}\\sum_{y=0}^{d-1} e^{2\\pi i \\frac{y}{d}} e^{-2\\pi i \\frac{x}{d}y} \\left| y  \\right >\\\\\n",
    "= F_d   \\frac{1}{\\sqrt{d}}\\sum_{y=0}^{d-1} e^{-2\\pi i \\frac{(x-1)}{d}(y)} \\left| y  \\right > \\\\\n",
    "=  \\left |x-1 \\right >\\\\\n",
    "= X_d^{-1} \\left |x \\right >\n",
    "$$\n",
    "Thus,\n",
    "$$F_d Z_d F_d^{-1} = X_d^{-1} $$"
   ]
  },
  {
   "cell_type": "markdown",
   "metadata": {},
   "source": [
    "## (b)\n",
    "$$\n",
    "F_d F_d \\left | x \\right > = \\frac{1}{d} \\sum_{y=0}^{d-1} \\sum_{t=0}^{d-1} e^{2\\pi i \\frac{x}{d}y} e^{2\\pi i \\frac{y}{d}t} \\left | t \\right >\\\\\n",
    "= \\frac{1}{d}  \\sum_{t=0}^{d-1}d \\delta_{x+t-d} \\left | t \\right >\\\\\n",
    "= \\left | d - x \\right >\n",
    "$$"
   ]
  },
  {
   "cell_type": "markdown",
   "metadata": {},
   "source": [
    "## (c)\n",
    "Define $P=F_d^2$.\n",
    "\n",
    "With\n",
    "$$P^2 = I$$\n",
    ", we can conclude the eigenvalues of $P$ are $1$ and $-1$.\n",
    "\n",
    "In fact, their eigen vectors are $(\\left | x \\right > + \\left |d- x \\right >)$ and $(\\left | x \\right > - \\left |d- x \\right >)$ respectively."
   ]
  },
  {
   "cell_type": "markdown",
   "metadata": {},
   "source": [
    "## (d)\n",
    "Here I use the method provided in problem 2. By iterating all the possible combinations of $U_1 \\otimes U_2 \\otimes... \\otimes U_N$ and $V_1\\otimes V_2\\otimes ...\\otimes V_N$, we can tell if a gate is in Clifford Group."
   ]
  },
  {
   "cell_type": "code",
   "execution_count": 2,
   "metadata": {
    "collapsed": true
   },
   "outputs": [],
   "source": [
    "def solver(test_gate ,test_gate_name):\n",
    "    N = len(test_gate.dims[0])\n",
    "    Vgates={\"I\" : identity(2), \"X\": sigmax(), \"Y\":sigmay(), \"Z\":sigmaz()}\n",
    "    for n in range(N-1):\n",
    "        new_Vgates = dict()\n",
    "        for gate_key, gate in Vgates.iteritems():\n",
    "            for key, i in {\"I\" : identity(2), \"X\": sigmax(), \"Y\":sigmay(),\\\n",
    "                           \"Z\":sigmaz()}.iteritems():\n",
    "                new_Vgates[gate_key+key]=tensor(gate, i)\n",
    "        Vgates = new_Vgates\n",
    "    failed = False\n",
    "    for i in (0,1):\n",
    "        for j in range(N):\n",
    "            Ugate = [identity(2)]*j+[sigmax() if i==0 else sigmaz()] + \\\n",
    "                    [identity(2)]*(N-1-j)\n",
    "            Ugate = tensor(Ugate)\n",
    "            Ugate_key = \"I\"*j+(\"X\" if i==0 else \"Z\") + \"I\"*(N-1-j)\n",
    "\n",
    "\n",
    "            Ugate_transformed = test_gate*Ugate*test_gate.dag()\n",
    "            solved = False\n",
    "            for Vgate_key, Vgate in Vgates.iteritems():\n",
    "                alpha = (Vgate.dag()*Ugate_transformed)[0,0]\n",
    "                #print alpha\n",
    "                if alpha*Ugate_transformed == Vgate:\n",
    "                    display(Latex(r\"$\"+test_gate_name + \" \\otimes \".join(Ugate_key) + \\\n",
    "                                  test_gate_name+ \"^{\\dagger} = \"+ \\\n",
    "                                  str(alpha)+ \" \\otimes \".join(Vgate_key)+\"$\"))\n",
    "                    solved = True\n",
    "                    break\n",
    "            if not solved:\n",
    "                failed = True\n",
    "                display(Latex(r\"$\"+test_gate_name + \" \\otimes \".join(Ugate_key) + \\\n",
    "                              test_gate_name+ \"^{\\dagger}...Failed$\"))\n",
    "    if failed:\n",
    "        print test_gate_name+\" is not in the Clifford Group!\"\n",
    "    else:\n",
    "        print test_gate_name+\" is in the Clifford Group!\""
   ]
  },
  {
   "cell_type": "code",
   "execution_count": 3,
   "metadata": {},
   "outputs": [
    {
     "data": {
      "text/latex": [
       "$(F_4)X \\otimes I(F_4)^{\\dagger} = (1+0j)I \\otimes Z$"
      ],
      "text/plain": [
       "<IPython.core.display.Latex object>"
      ]
     },
     "metadata": {},
     "output_type": "display_data"
    },
    {
     "data": {
      "text/latex": [
       "$(F_4)I \\otimes X(F_4)^{\\dagger}...Failed$"
      ],
      "text/plain": [
       "<IPython.core.display.Latex object>"
      ]
     },
     "metadata": {},
     "output_type": "display_data"
    },
    {
     "data": {
      "text/latex": [
       "$(F_4)Z \\otimes I(F_4)^{\\dagger}...Failed$"
      ],
      "text/plain": [
       "<IPython.core.display.Latex object>"
      ]
     },
     "metadata": {},
     "output_type": "display_data"
    },
    {
     "data": {
      "text/latex": [
       "$(F_4)I \\otimes Z(F_4)^{\\dagger} = (1+0j)X \\otimes I$"
      ],
      "text/plain": [
       "<IPython.core.display.Latex object>"
      ]
     },
     "metadata": {},
     "output_type": "display_data"
    },
    {
     "name": "stdout",
     "output_type": "stream",
     "text": [
      "(F_4) is not in the Clifford Group!\n"
     ]
    }
   ],
   "source": [
    "solver(qft(2), \"(F_4)\")"
   ]
  }
 ],
 "metadata": {
  "kernelspec": {
   "display_name": "Python 2",
   "language": "python",
   "name": "python2"
  },
  "language_info": {
   "codemirror_mode": {
    "name": "ipython",
    "version": 2
   },
   "file_extension": ".py",
   "mimetype": "text/x-python",
   "name": "python",
   "nbconvert_exporter": "python",
   "pygments_lexer": "ipython2",
   "version": "2.7.13"
  }
 },
 "nbformat": 4,
 "nbformat_minor": 2
}
