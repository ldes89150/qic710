{
 "cells": [
  {
   "cell_type": "markdown",
   "metadata": {},
   "source": [
    "# Problem 4\n",
    "With\n",
    "$$\n",
    "p(j) = Tr(E_j \\rho)= Tr(\\sum_{i=1}^{d^2} a_i E_i E_j)=c((\\sum_{i=1}^{d^2} a_i) - a_j)+b a_j\n",
    "$$\n",
    "and \n",
    "$$\n",
    "1 = Tr(\\rho) = Tr(\\sum_{i=1}^{d^2} a_i E_i ) = \\frac{1}{d}\\sum_{i=1}^{d^2} a_i\n",
    "$$,\n",
    "we have\n",
    "$$\n",
    "a_j = \\frac{p(j)-cd}{b-c}\n",
    "$$"
   ]
  }
 ],
 "metadata": {
  "kernelspec": {
   "display_name": "Python 2",
   "language": "python",
   "name": "python2"
  },
  "language_info": {
   "codemirror_mode": {
    "name": "ipython",
    "version": 2
   },
   "file_extension": ".py",
   "mimetype": "text/x-python",
   "name": "python",
   "nbconvert_exporter": "python",
   "pygments_lexer": "ipython2",
   "version": "2.7.13"
  }
 },
 "nbformat": 4,
 "nbformat_minor": 2
}
