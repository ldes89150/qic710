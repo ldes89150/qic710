{
 "cells": [
  {
   "cell_type": "code",
   "execution_count": 78,
   "metadata": {
    "collapsed": true
   },
   "outputs": [],
   "source": [
    "from sympy import *\n",
    "from sympy.physics.quantum import Dagger, TensorProduct\n",
    "from sympy.physics.matrices import msigma\n",
    "from sympy.physics.quantum.qubit import *\n",
    "from IPython.display import *\n",
    "init_printing()"
   ]
  },
  {
   "cell_type": "code",
   "execution_count": 112,
   "metadata": {
    "collapsed": true
   },
   "outputs": [],
   "source": [
    "phi_plus = 1/sqrt(2)*(Qubit(\"00\")+Qubit(\"11\"))\n",
    "phi_minus = 1/sqrt(2)*(Qubit(\"00\")-Qubit(\"11\"))\n",
    "psi_plus = 1/sqrt(2)*(Qubit(\"01\")+Qubit(\"10\"))\n",
    "psi_minus = 1/sqrt(2)*(Qubit(\"01\")-Qubit(\"10\"))\n",
    "p = Symbol(\"p\", positive=True)"
   ]
  },
  {
   "cell_type": "code",
   "execution_count": 113,
   "metadata": {
    "collapsed": true
   },
   "outputs": [],
   "source": [
    "rho = (1-p)*(phi_plus*phi_plus.adjoint()+phi_minus*phi_minus.adjoint()+\\\n",
    "             psi_plus*psi_plus.adjoint())/3 + p*psi_minus*psi_minus.adjoint()\n",
    "rho_matrix = qubit_to_matrix(rho)"
   ]
  },
  {
   "cell_type": "markdown",
   "metadata": {},
   "source": [
    "# Problem 1\n",
    "## (a)"
   ]
  },
  {
   "cell_type": "code",
   "execution_count": 114,
   "metadata": {},
   "outputs": [
    {
     "data": {
      "text/latex": [
       "$$\\rho = \\frac{p}{2} \\left({\\left|01\\right\\rangle } - {\\left|10\\right\\rangle }\\right) \\left({\\left\\langle 01\\right|} - {\\left\\langle 10\\right|}\\right) + \\frac{1}{3} \\left(- p + 1\\right) \\left(\\frac{1}{2} \\left({\\left|00\\right\\rangle } - {\\left|11\\right\\rangle }\\right) \\left({\\left\\langle 00\\right|} - {\\left\\langle 11\\right|}\\right) + \\frac{1}{2} \\left({\\left|00\\right\\rangle } + {\\left|11\\right\\rangle }\\right) \\left({\\left\\langle 00\\right|} + {\\left\\langle 11\\right|}\\right) + \\frac{1}{2} \\left({\\left|01\\right\\rangle } + {\\left|10\\right\\rangle }\\right) \\left({\\left\\langle 01\\right|} + {\\left\\langle 10\\right|}\\right)\\right)$$"
      ],
      "text/plain": [
       "<IPython.core.display.Math object>"
      ]
     },
     "metadata": {},
     "output_type": "display_data"
    },
    {
     "data": {
      "text/latex": [
       "$$= \\left[\\begin{matrix}- \\frac{p}{3} + \\frac{1}{3} & 0 & 0 & 0\\\\0 & \\frac{p}{3} + \\frac{1}{6} & - \\frac{2 p}{3} + \\frac{1}{6} & 0\\\\0 & - \\frac{2 p}{3} + \\frac{1}{6} & \\frac{p}{3} + \\frac{1}{6} & 0\\\\0 & 0 & 0 & - \\frac{p}{3} + \\frac{1}{3}\\end{matrix}\\right]$$"
      ],
      "text/plain": [
       "<IPython.core.display.Math object>"
      ]
     },
     "metadata": {},
     "output_type": "display_data"
    }
   ],
   "source": [
    "display(Math(r\"\\rho = \"+latex(rho)))\n",
    "display(Math(r\"= \"+latex(rho_matrix)))"
   ]
  },
  {
   "cell_type": "code",
   "execution_count": 115,
   "metadata": {
    "collapsed": true
   },
   "outputs": [],
   "source": [
    "def partial_transpose(m):\n",
    "    m = m.copy()\n",
    "    for i in (2,3,6,7):\n",
    "        m[i], m[6+i] = m[6+i], m[i]\n",
    "    return m"
   ]
  },
  {
   "cell_type": "markdown",
   "metadata": {},
   "source": [
    "## (b)\n",
    "The matrix taking partial transpose becomes:"
   ]
  },
  {
   "cell_type": "code",
   "execution_count": 116,
   "metadata": {},
   "outputs": [
    {
     "data": {
      "text/latex": [
       "$$\\left[\\begin{matrix}- \\frac{p}{3} + \\frac{1}{3} & 0 & 0 & - \\frac{2 p}{3} + \\frac{1}{6}\\\\0 & \\frac{p}{3} + \\frac{1}{6} & 0 & 0\\\\0 & 0 & \\frac{p}{3} + \\frac{1}{6} & 0\\\\- \\frac{2 p}{3} + \\frac{1}{6} & 0 & 0 & - \\frac{p}{3} + \\frac{1}{3}\\end{matrix}\\right]$$"
      ],
      "text/plain": [
       "⎡   p   1                   2⋅p   1⎤\n",
       "⎢ - ─ + ─     0      0    - ─── + ─⎥\n",
       "⎢   3   3                    3    6⎥\n",
       "⎢                                  ⎥\n",
       "⎢           p   1                  ⎥\n",
       "⎢    0      ─ + ─    0        0    ⎥\n",
       "⎢           3   6                  ⎥\n",
       "⎢                                  ⎥\n",
       "⎢                  p   1           ⎥\n",
       "⎢    0        0    ─ + ─      0    ⎥\n",
       "⎢                  3   6           ⎥\n",
       "⎢                                  ⎥\n",
       "⎢  2⋅p   1                   p   1 ⎥\n",
       "⎢- ─── + ─    0      0     - ─ + ─ ⎥\n",
       "⎣   3    6                   3   3 ⎦"
      ]
     },
     "execution_count": 116,
     "metadata": {},
     "output_type": "execute_result"
    }
   ],
   "source": [
    "rho_matrix_ptranspose = partial_transpose(rho_matrix)\n",
    "rho_matrix_ptranspose"
   ]
  },
  {
   "cell_type": "markdown",
   "metadata": {},
   "source": [
    "Solve for the eigen value we get $-p+1/2$, $p/3+1/6$. It is easy to show for $p>1/2$, the matrix after partial transpose is no longer positive. Namely, $\\rho$ is entangled when $p>1/2$."
   ]
  },
  {
   "cell_type": "code",
   "execution_count": 117,
   "metadata": {},
   "outputs": [
    {
     "data": {
      "image/png": "[encoded data removed]",
      "text/latex": [
       "$$\\left \\{ - p + \\frac{1}{2} : 1, \\quad \\frac{p}{3} + \\frac{1}{6} : 3\\right \\}$$"
      ],
      "text/plain": [
       "⎧             p   1   ⎫\n",
       "⎨-p + 1/2: 1, ─ + ─: 3⎬\n",
       "⎩             3   6   ⎭"
      ]
     },
     "execution_count": 117,
     "metadata": {},
     "output_type": "execute_result"
    }
   ],
   "source": [
    "rho_matrix_ptranspose.eigenvals()"
   ]
  }
 ],
 "metadata": {
  "kernelspec": {
   "display_name": "Python 2",
   "language": "python",
   "name": "python2"
  },
  "language_info": {
   "codemirror_mode": {
    "name": "ipython",
    "version": 2
   },
   "file_extension": ".py",
   "mimetype": "text/x-python",
   "name": "python",
   "nbconvert_exporter": "python",
   "pygments_lexer": "ipython2",
   "version": "2.7.13"
  }
 },
 "nbformat": 4,
 "nbformat_minor": 2
}
