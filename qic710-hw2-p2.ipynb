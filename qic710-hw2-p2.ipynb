{
 "cells": [
  {
   "cell_type": "code",
   "execution_count": 1,
   "metadata": {
    "collapsed": true
   },
   "outputs": [],
   "source": [
    "# Student ID: 20753428\n",
    "from qutip import *\n",
    "from IPython.display import *\n",
    "import numpy as np"
   ]
  },
  {
   "cell_type": "markdown",
   "metadata": {},
   "source": [
    "# Problem 2\n",
    "Here I use the method provided in the problem. By iterating all the possible combinations of $U_1 \\otimes U_2 \\otimes... \\otimes U_N$ and $V_1\\otimes V_2\\otimes ...\\otimes V_N$, we can tell if a gate is in the Clifford Group."
   ]
  },
  {
   "cell_type": "code",
   "execution_count": 2,
   "metadata": {
    "collapsed": true
   },
   "outputs": [],
   "source": [
    "def solver(test_gate ,test_gate_name):\n",
    "    N = len(test_gate.dims[0])\n",
    "    Vgates={\"I\" : identity(2), \"X\": sigmax(), \"Y\":sigmay(), \"Z\":sigmaz()}\n",
    "    for n in range(N-1):\n",
    "        new_Vgates = dict()\n",
    "        for gate_key, gate in Vgates.iteritems():\n",
    "            for key, i in {\"I\" : identity(2), \"X\": sigmax(), \"Y\":sigmay(), \"Z\":sigmaz()}.iteritems():\n",
    "                new_Vgates[gate_key+key]=tensor(gate, i)\n",
    "        Vgates = new_Vgates\n",
    "    failed = False\n",
    "    for i in (0,1):\n",
    "        for j in range(N):\n",
    "            Ugate = [identity(2)]*j+[sigmax() if i==0 else sigmaz()] + [identity(2)]*(N-1-j)\n",
    "            Ugate = tensor(Ugate)\n",
    "            Ugate_key = \"I\"*j+(\"X\" if i==0 else \"Z\") + \"I\"*(N-1-j)\n",
    "\n",
    "            Ugate_transformed = test_gate*Ugate*test_gate.dag()\n",
    "            solved = False\n",
    "            for Vgate_key, Vgate in Vgates.iteritems():\n",
    "                alpha = (Vgate.dag()*Ugate_transformed)[0,0]\n",
    "                #print alpha\n",
    "                if alpha*Ugate_transformed == Vgate:\n",
    "                    display(Latex(r\"$\"+test_gate_name + \" \\otimes \".join(Ugate_key) + \\\n",
    "                                  test_gate_name+ \"^{\\dagger} = \"+ \\\n",
    "                                  str(alpha)+ \" \\otimes \".join(Vgate_key)+\"$\"))\n",
    "                    solved = True\n",
    "                    break\n",
    "            if not solved:\n",
    "                failed = True\n",
    "                display(Latex(r\"$\"+test_gate_name + \" \\otimes \".join(Ugate_key) +\\\n",
    "                              test_gate_name+ \"^{\\dagger}...Failed$\"))\n",
    "    if failed:\n",
    "        print test_gate_name+\" is not in the Clifford Group!\"\n",
    "    else:\n",
    "        print test_gate_name+\" is in the Clifford Group!\""
   ]
  },
  {
   "cell_type": "code",
   "execution_count": 3,
   "metadata": {},
   "outputs": [
    {
     "data": {
      "text/latex": [
       "$HXH^{\\dagger} = (1+0j)Z$"
      ],
      "text/plain": [
       "<IPython.core.display.Latex object>"
      ]
     },
     "metadata": {},
     "output_type": "display_data"
    },
    {
     "data": {
      "text/latex": [
       "$HZH^{\\dagger} = (1+0j)X$"
      ],
      "text/plain": [
       "<IPython.core.display.Latex object>"
      ]
     },
     "metadata": {},
     "output_type": "display_data"
    },
    {
     "name": "stdout",
     "output_type": "stream",
     "text": [
      "H is in the Clifford Group!\n"
     ]
    }
   ],
   "source": [
    "solver(hadamard_transform(),\"H\")"
   ]
  },
  {
   "cell_type": "code",
   "execution_count": 4,
   "metadata": {},
   "outputs": [
    {
     "data": {
      "text/latex": [
       "$TXT^{\\dagger}...Failed$"
      ],
      "text/plain": [
       "<IPython.core.display.Latex object>"
      ]
     },
     "metadata": {},
     "output_type": "display_data"
    },
    {
     "data": {
      "text/latex": [
       "$TZT^{\\dagger} = (1+0j)Z$"
      ],
      "text/plain": [
       "<IPython.core.display.Latex object>"
      ]
     },
     "metadata": {},
     "output_type": "display_data"
    },
    {
     "name": "stdout",
     "output_type": "stream",
     "text": [
      "T is not in the Clifford Group!\n"
     ]
    }
   ],
   "source": [
    "solver(phasegate(np.pi/4), \"T\")"
   ]
  },
  {
   "cell_type": "code",
   "execution_count": 5,
   "metadata": {},
   "outputs": [
    {
     "data": {
      "text/latex": [
       "$SXS^{\\dagger} = (1+0j)Y$"
      ],
      "text/plain": [
       "<IPython.core.display.Latex object>"
      ]
     },
     "metadata": {},
     "output_type": "display_data"
    },
    {
     "data": {
      "text/latex": [
       "$SZS^{\\dagger} = (1+0j)Z$"
      ],
      "text/plain": [
       "<IPython.core.display.Latex object>"
      ]
     },
     "metadata": {},
     "output_type": "display_data"
    },
    {
     "name": "stdout",
     "output_type": "stream",
     "text": [
      "S is in the Clifford Group!\n"
     ]
    }
   ],
   "source": [
    "solver(phasegate(0.5*np.pi), \"S\")"
   ]
  },
  {
   "cell_type": "code",
   "execution_count": 6,
   "metadata": {},
   "outputs": [
    {
     "data": {
      "text/latex": [
       "$(CNOT)X \\otimes I(CNOT)^{\\dagger} = (1+0j)X \\otimes X$"
      ],
      "text/plain": [
       "<IPython.core.display.Latex object>"
      ]
     },
     "metadata": {},
     "output_type": "display_data"
    },
    {
     "data": {
      "text/latex": [
       "$(CNOT)I \\otimes X(CNOT)^{\\dagger} = (1+0j)I \\otimes X$"
      ],
      "text/plain": [
       "<IPython.core.display.Latex object>"
      ]
     },
     "metadata": {},
     "output_type": "display_data"
    },
    {
     "data": {
      "text/latex": [
       "$(CNOT)Z \\otimes I(CNOT)^{\\dagger} = (1+0j)Z \\otimes I$"
      ],
      "text/plain": [
       "<IPython.core.display.Latex object>"
      ]
     },
     "metadata": {},
     "output_type": "display_data"
    },
    {
     "data": {
      "text/latex": [
       "$(CNOT)I \\otimes Z(CNOT)^{\\dagger} = (1+0j)Z \\otimes Z$"
      ],
      "text/plain": [
       "<IPython.core.display.Latex object>"
      ]
     },
     "metadata": {},
     "output_type": "display_data"
    },
    {
     "name": "stdout",
     "output_type": "stream",
     "text": [
      "(CNOT) is in the Clifford Group!\n"
     ]
    }
   ],
   "source": [
    "solver(cnot(),\"(CNOT)\")"
   ]
  },
  {
   "cell_type": "code",
   "execution_count": 7,
   "metadata": {},
   "outputs": [
    {
     "data": {
      "text/latex": [
       "$(Toffoli)X \\otimes I \\otimes I(Toffoli)^{\\dagger}...Failed$"
      ],
      "text/plain": [
       "<IPython.core.display.Latex object>"
      ]
     },
     "metadata": {},
     "output_type": "display_data"
    },
    {
     "data": {
      "text/latex": [
       "$(Toffoli)I \\otimes X \\otimes I(Toffoli)^{\\dagger}...Failed$"
      ],
      "text/plain": [
       "<IPython.core.display.Latex object>"
      ]
     },
     "metadata": {},
     "output_type": "display_data"
    },
    {
     "data": {
      "text/latex": [
       "$(Toffoli)I \\otimes I \\otimes X(Toffoli)^{\\dagger} = (1+0j)I \\otimes I \\otimes X$"
      ],
      "text/plain": [
       "<IPython.core.display.Latex object>"
      ]
     },
     "metadata": {},
     "output_type": "display_data"
    },
    {
     "data": {
      "text/latex": [
       "$(Toffoli)Z \\otimes I \\otimes I(Toffoli)^{\\dagger} = (1+0j)Z \\otimes I \\otimes I$"
      ],
      "text/plain": [
       "<IPython.core.display.Latex object>"
      ]
     },
     "metadata": {},
     "output_type": "display_data"
    },
    {
     "data": {
      "text/latex": [
       "$(Toffoli)I \\otimes Z \\otimes I(Toffoli)^{\\dagger} = (1+0j)I \\otimes Z \\otimes I$"
      ],
      "text/plain": [
       "<IPython.core.display.Latex object>"
      ]
     },
     "metadata": {},
     "output_type": "display_data"
    },
    {
     "data": {
      "text/latex": [
       "$(Toffoli)I \\otimes I \\otimes Z(Toffoli)^{\\dagger}...Failed$"
      ],
      "text/plain": [
       "<IPython.core.display.Latex object>"
      ]
     },
     "metadata": {},
     "output_type": "display_data"
    },
    {
     "name": "stdout",
     "output_type": "stream",
     "text": [
      "(Toffoli) is not in the Clifford Group!\n"
     ]
    }
   ],
   "source": [
    "solver(toffoli(),\"(Toffoli)\")"
   ]
  }
 ],
 "metadata": {
  "kernelspec": {
   "display_name": "Python 2",
   "language": "python",
   "name": "python2"
  },
  "language_info": {
   "codemirror_mode": {
    "name": "ipython",
    "version": 2
   },
   "file_extension": ".py",
   "mimetype": "text/x-python",
   "name": "python",
   "nbconvert_exporter": "python",
   "pygments_lexer": "ipython2",
   "version": "2.7.13"
  }
 },
 "nbformat": 4,
 "nbformat_minor": 2
}
