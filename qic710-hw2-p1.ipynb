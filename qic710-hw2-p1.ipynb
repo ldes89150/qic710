{
 "cells": [
  {
   "cell_type": "code",
   "execution_count": 1,
   "metadata": {
    "collapsed": true
   },
   "outputs": [],
   "source": [
    "# Student ID: 20753428\n",
    "import numpy as np"
   ]
  },
  {
   "cell_type": "markdown",
   "metadata": {},
   "source": [
    "# Problem1\n",
    "## （a)"
   ]
  },
  {
   "cell_type": "code",
   "execution_count": 2,
   "metadata": {},
   "outputs": [
    {
     "name": "stdout",
     "output_type": "stream",
     "text": [
      "11+12 mod 13 = 10\n"
     ]
    }
   ],
   "source": [
    "print \"11+12 mod 13 =\", (11+12)%13"
   ]
  },
  {
   "cell_type": "markdown",
   "metadata": {},
   "source": [
    "## (b)"
   ]
  },
  {
   "cell_type": "code",
   "execution_count": 3,
   "metadata": {},
   "outputs": [
    {
     "name": "stdout",
     "output_type": "stream",
     "text": [
      "2^0 mod 13 = 1\n",
      "2^1 mod 13 = 2\n",
      "2^2 mod 13 = 4\n",
      "2^3 mod 13 = 8\n",
      "2^4 mod 13 = 3\n",
      "2^5 mod 13 = 6\n",
      "2^6 mod 13 = 12\n",
      "2^7 mod 13 = 11\n",
      "2^8 mod 13 = 9\n",
      "2^9 mod 13 = 5\n",
      "2^10 mod 13 = 10\n",
      "2^11 mod 13 = 7\n"
     ]
    }
   ],
   "source": [
    "for i in range(12):\n",
    "    print \"2^\"+str(i)+\" mod 13 = \" +str(2**i % 13)"
   ]
  },
  {
   "cell_type": "markdown",
   "metadata": {},
   "source": [
    "## (C)"
   ]
  },
  {
   "cell_type": "code",
   "execution_count": 4,
   "metadata": {},
   "outputs": [
    {
     "name": "stdout",
     "output_type": "stream",
     "text": [
      "r = 8\n"
     ]
    }
   ],
   "source": [
    "for i in range(12):\n",
    "    if 2**i % 13 == 9:\n",
    "        print \"r =\", i"
   ]
  },
  {
   "cell_type": "markdown",
   "metadata": {},
   "source": [
    "## (d)"
   ]
  },
  {
   "cell_type": "code",
   "execution_count": 5,
   "metadata": {},
   "outputs": [
    {
     "name": "stdout",
     "output_type": "stream",
     "text": [
      "===================\n",
      "2 is a generator!\n",
      "2^0 mod 13 = 1\n",
      "2^1 mod 13 = 2\n",
      "2^2 mod 13 = 4\n",
      "2^3 mod 13 = 8\n",
      "2^4 mod 13 = 3\n",
      "2^5 mod 13 = 6\n",
      "2^6 mod 13 = 12\n",
      "2^7 mod 13 = 11\n",
      "2^8 mod 13 = 9\n",
      "2^9 mod 13 = 5\n",
      "2^10 mod 13 = 10\n",
      "2^11 mod 13 = 7\n",
      "===================\n",
      "6 is a generator!\n",
      "6^0 mod 13 = 1\n",
      "6^1 mod 13 = 6\n",
      "6^2 mod 13 = 10\n",
      "6^3 mod 13 = 8\n",
      "6^4 mod 13 = 9\n",
      "6^5 mod 13 = 2\n",
      "6^6 mod 13 = 12\n",
      "6^7 mod 13 = 7\n",
      "6^8 mod 13 = 3\n",
      "6^9 mod 13 = 5\n",
      "6^10 mod 13 = 4\n",
      "6^11 mod 13 = 11\n",
      "===================\n",
      "7 is a generator!\n",
      "7^0 mod 13 = 1\n",
      "7^1 mod 13 = 7\n",
      "7^2 mod 13 = 10\n",
      "7^3 mod 13 = 5\n",
      "7^4 mod 13 = 9\n",
      "7^5 mod 13 = 11\n",
      "7^6 mod 13 = 12\n",
      "7^7 mod 13 = 6\n",
      "7^8 mod 13 = 3\n",
      "7^9 mod 13 = 8\n",
      "7^10 mod 13 = 4\n",
      "7^11 mod 13 = 2\n",
      "===================\n",
      "11 is a generator!\n",
      "11^0 mod 13 = 1\n",
      "11^1 mod 13 = 11\n",
      "11^2 mod 13 = 4\n",
      "11^3 mod 13 = 5\n",
      "11^4 mod 13 = 3\n",
      "11^5 mod 13 = 7\n",
      "11^6 mod 13 = 12\n",
      "11^7 mod 13 = 2\n",
      "11^8 mod 13 = 9\n",
      "11^9 mod 13 = 8\n",
      "11^10 mod 13 = 10\n",
      "11^11 mod 13 = 6\n"
     ]
    }
   ],
   "source": [
    "for i in range(12):\n",
    "    result = []\n",
    "    for j in range(12):\n",
    "        result.append(i**j%13)\n",
    "    if np.unique(result).size == 12:\n",
    "        print \"===================\"\n",
    "        print i, \"is a generator!\"\n",
    "        for j in range(12):\n",
    "            print str(i)+\"^\"+str(j)+\" mod 13 = \" +str(i**j % 13)"
   ]
  }
 ],
 "metadata": {
  "kernelspec": {
   "display_name": "Python 2",
   "language": "python",
   "name": "python2"
  },
  "language_info": {
   "codemirror_mode": {
    "name": "ipython",
    "version": 2
   },
   "file_extension": ".py",
   "mimetype": "text/x-python",
   "name": "python",
   "nbconvert_exporter": "python",
   "pygments_lexer": "ipython2",
   "version": "2.7.13"
  }
 },
 "nbformat": 4,
 "nbformat_minor": 2
}
