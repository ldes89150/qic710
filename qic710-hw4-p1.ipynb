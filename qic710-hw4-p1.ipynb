{
 "cells": [
  {
   "cell_type": "code",
   "execution_count": 1,
   "metadata": {},
   "outputs": [],
   "source": [
    "from sympy import *\n",
    "from qutip import *\n",
    "import numpy as np\n",
    "from sympy.physics.quantum import Dagger, TensorProduct\n",
    "from sympy.physics.matrices import msigma\n",
    "from IPython.display import *\n",
    "init_printing()"
   ]
  },
  {
   "cell_type": "code",
   "execution_count": 2,
   "metadata": {},
   "outputs": [],
   "source": [
    "X = msigma(1)\n",
    "Y = msigma(2)\n",
    "Z = msigma(3)\n",
    "I = Matrix([[1,0],[0,1]])"
   ]
  },
  {
   "cell_type": "code",
   "execution_count": 3,
   "metadata": {
    "collapsed": true
   },
   "outputs": [],
   "source": [
    "r0 = Symbol(\"r_0\", real=True)\n",
    "rx = Symbol(\"r_x\", real=True)\n",
    "ry = Symbol(\"r_y\", real=True)\n",
    "rz = Symbol(\"r_z\", real=True)\n",
    "rx2 = Symbol(\"r'_x\", real=True)\n",
    "ry2 = Symbol(\"r'_y\", real=True)\n",
    "rz2 = Symbol(\"r'_z\", real=True)"
   ]
  },
  {
   "cell_type": "markdown",
   "metadata": {},
   "source": [
    "## (a)\n",
    "Solve for the eigenvalues of the following matrix"
   ]
  },
  {
   "cell_type": "code",
   "execution_count": 4,
   "metadata": {},
   "outputs": [
    {
     "data": {
      "text/latex": [
       "$$\\left[\\begin{matrix}r_{0} + r_{z} & r_{x} - i r_{y}\\\\r_{x} + i r_{y} & r_{0} - r_{z}\\end{matrix}\\right]$$"
      ],
      "text/plain": [
       "⎡ r₀ + r_z   rₓ - ⅈ⋅r_y⎤\n",
       "⎢                      ⎥\n",
       "⎣rₓ + ⅈ⋅r_y   r₀ - r_z ⎦"
      ]
     },
     "execution_count": 4,
     "metadata": {},
     "output_type": "execute_result"
    }
   ],
   "source": [
    "m = r0*I + rx*X + ry*Y + rz*Z; m"
   ]
  },
  {
   "cell_type": "code",
   "execution_count": 5,
   "metadata": {},
   "outputs": [
    {
     "data": {
      "image/png": "[encoded data removed]",
      "text/latex": [
       "$$\\left \\{ r_{0} - \\sqrt{r_{x}^{2} + r_{y}^{2} + r_{z}^{2}} : 1, \\quad r_{0} + \\sqrt{r_{x}^{2} + r_{y}^{2} + r_{z}^{2}} : 1\\right \\}$$"
      ],
      "text/plain": [
       "⎧        ___________________             ___________________   ⎫\n",
       "⎨       ╱   2      2      2             ╱   2      2      2    ⎬\n",
       "⎩r₀ - ╲╱  rₓ  + r_y  + r_z  : 1, r₀ + ╲╱  rₓ  + r_y  + r_z  : 1⎭"
      ]
     },
     "execution_count": 5,
     "metadata": {},
     "output_type": "execute_result"
    }
   ],
   "source": [
    "m.eigenvals()"
   ]
  },
  {
   "cell_type": "markdown",
   "metadata": {},
   "source": [
    ",and we have eigenvalues be $ r_{0} - \\sqrt{r_{x}^{2} + r_{y}^{2} + r_{z}^{2}}$ and $ r_{0} + \\sqrt{r_{x}^{2} + r_{y}^{2} + r_{z}^{2}}$."
   ]
  },
  {
   "cell_type": "markdown",
   "metadata": {},
   "source": [
    "## (b)"
   ]
  },
  {
   "cell_type": "code",
   "execution_count": 6,
   "metadata": {},
   "outputs": [],
   "source": [
    "rho = Rational(1,2)*(I + rx*X + ry*Y + rz*Z)\n",
    "sigma = Rational(1,2)*(I + rx2*X + ry2*Y + rz2*Z)"
   ]
  },
  {
   "cell_type": "markdown",
   "metadata": {},
   "source": [
    "Calculate $|\\rho - \\sigma |_1$, and we get:"
   ]
  },
  {
   "cell_type": "code",
   "execution_count": 7,
   "metadata": {},
   "outputs": [
    {
     "data": {
      "text/latex": [
       "$|\\rho - \\sigma |_1=$"
      ],
      "text/plain": [
       "<IPython.core.display.Latex object>"
      ]
     },
     "metadata": {},
     "output_type": "display_data"
    },
    {
     "data": {
      "image/png": "[encoded data removed]",
      "text/latex": [
       "$$\\sqrt{\\left(r'_{z} - r_{z}\\right)^{2} + \\left(r'_{x} - i r'_{y} - r_{x} + i r_{y}\\right) \\left(r'_{x} + i r'_{y} - r_{x} - i r_{y}\\right)}$$"
      ],
      "text/plain": [
       "   _________________________________________________________________________\n",
       "  ╱             2                                                           \n",
       "╲╱  (r'_z - r_z)  + (r'ₓ - ⅈ⋅r'_y - rₓ + ⅈ⋅r_y)⋅(r'ₓ + ⅈ⋅r'_y - rₓ - ⅈ⋅r_y) "
      ]
     },
     "execution_count": 7,
     "metadata": {},
     "output_type": "execute_result"
    }
   ],
   "source": [
    "display(Latex(r\"$|\\rho - \\sigma |_1=$\"))\n",
    "a = simplify(trace(simplify(Dagger(rho-sigma)* (rho-sigma)).applyfunc(sqrt)));a"
   ]
  },
  {
   "cell_type": "markdown",
   "metadata": {},
   "source": [
    "By calculating the value of $|\\rho - \\sigma |_1 - |r - r'|_2$, we can figure out if the equation holds."
   ]
  },
  {
   "cell_type": "code",
   "execution_count": 8,
   "metadata": {},
   "outputs": [
    {
     "data": {
      "text/latex": [
       "$| \\rho - \\sigma |_1 - |r - r'|_2 = $"
      ],
      "text/plain": [
       "<IPython.core.display.Latex object>"
      ]
     },
     "metadata": {},
     "output_type": "display_data"
    },
    {
     "data": {
      "image/png": "[encoded data removed]",
      "text/latex": [
       "$$0$$"
      ],
      "text/plain": [
       "0"
      ]
     },
     "execution_count": 8,
     "metadata": {},
     "output_type": "execute_result"
    }
   ],
   "source": [
    "display(Latex(r\"$| \\rho - \\sigma |_1 - |r - r'|_2 = $\"))\n",
    "simplify(a - sqrt((rx-rx2)**2 + (ry-ry2)**2 + (rz-rz2)**2))"
   ]
  },
  {
   "cell_type": "markdown",
   "metadata": {},
   "source": [
    "Thus, we know $|\\rho - \\sigma |_1 = |r - r'|_2$"
   ]
  }
 ],
 "metadata": {
  "kernelspec": {
   "display_name": "Python 2",
   "language": "python",
   "name": "python2"
  },
  "language_info": {
   "codemirror_mode": {
    "name": "ipython",
    "version": 2
   },
   "file_extension": ".py",
   "mimetype": "text/x-python",
   "name": "python",
   "nbconvert_exporter": "python",
   "pygments_lexer": "ipython2",
   "version": "2.7.13"
  }
 },
 "nbformat": 4,
 "nbformat_minor": 2
}
