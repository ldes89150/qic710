{
 "cells": [
  {
   "cell_type": "markdown",
   "metadata": {},
   "source": [
    "# Problem 4 \n",
    "## (a)\n",
    "$$\n",
    "Tr_1(| \\left | \\psi \\right > \\left< \\psi \\right |)\\\\\n",
    "=Tr_1(|\\alpha|^2 \\left | 00 \\right > \\left< 00 \\right | +\n",
    "|\\beta|^2 \\left | 11 \\right > \\left< 11 \\right | +\n",
    "\\alpha \\beta^* \\left | 00 \\right > \\left< 11 \\right | +\n",
    "\\beta \\alpha^* \\left | 11 \\right > \\left< 00 \\right | )\\\\\n",
    "=|\\alpha|^2 \\left | 0 \\right > \\left< 0 \\right | +\n",
    "|\\beta|^2 \\left | 1 \\right > \\left< 1 \\right |\n",
    "$$"
   ]
  },
  {
   "cell_type": "markdown",
   "metadata": {},
   "source": [
    "## (b)\n",
    "Let the measurement operators be $A_0 = \\left| 0 \\right >_1 \\left< 0 \\right |_1 \\otimes I$ and $A_1 = \\left| 1 \\right >_1 \\left< 1 \\right |_1 \\otimes I$. The subscript indicats the qubit of the single qubit state.\n",
    "\n",
    "For outcome equals $j$, we have:\n",
    "- probability: $Tr(A_j | \\left | \\psi \\right > \\left< \\psi \\right |) A_j^\\dagger)$\n",
    "- post-measurement state: $\\frac{A_j | \\left | \\psi \\right > \\left< \\psi \\right |) A_j^\\dagger}{Tr(A_j | \\left | \\psi \\right > \\left< \\psi \\right |) A_j^\\dagger)}$\n",
    "\n",
    "Thus,\n",
    "\n",
    "$j=0$ with probability $|\\alpha|^2$, post-measurement state $\\left | 00 \\right > \\left< 00 \\right |$, and second qubit state is $\\left | 0\\right >\\left < 0\\right |$\n",
    "\n",
    "$j=1$ with probability $|\\beta|^2$, post-measurement state $\\left | 11 \\right > \\left< 11 \\right |$, and second qubit state is $\\left | 1\\right >\\left < 1\\right |$\n",
    "\n",
    "The density matrix of corresponding mixed state is:\n",
    "$$\n",
    "Tr_1 (\\sum_j A_j | \\left | \\psi \\right > \\left< \\psi \\right |) A_j^\\dagger) \\\\\n",
    "= |\\alpha|^2 \\left | 0 \\right > \\left< 0 \\right | +\n",
    "|\\beta|^2 \\left | 11 \\right > \\left< 11 \\right |\n",
    "$$"
   ]
  },
  {
   "cell_type": "markdown",
   "metadata": {},
   "source": [
    "## (c)\n",
    "Now let the measurement operators be:\n",
    "- $A_0 = \\sqrt{\\frac{2}{3}}\\left| 0 \\right >_1 \\left< 0 \\right |_1 \\otimes I$ \n",
    "- $A_1 = \\sqrt{\\frac{2}{3}}(-\\frac{1}{2}\\left| 0 \\right >_1 + \\frac{\\sqrt{3}}{2} \\left | 1 \\right >_1) (-\\frac{1}{2}\\left< 0 \\right |_1 + \\frac{\\sqrt{3}}{2} \\left < 1 \\right |_1) \\otimes I$\n",
    "- $A_2 = \\sqrt{\\frac{2}{3}}(-\\frac{1}{2}\\left| 0 \\right >_1 - \\frac{\\sqrt{3}}{2} \\left | 1 \\right >_1) (-\\frac{1}{2}\\left< 0 \\right |_1 - \\frac{\\sqrt{3}}{2} \\left < 1 \\right |_1)\\otimes I$\n",
    "\n",
    "Similiarliy, we have"
   ]
  },
  {
   "cell_type": "code",
   "execution_count": 1,
   "metadata": {
    "collapsed": true
   },
   "outputs": [],
   "source": [
    "from sympy import *\n",
    "from sympy.physics.quantum import Dagger, TensorProduct\n",
    "init_printing()"
   ]
  },
  {
   "cell_type": "code",
   "execution_count": 2,
   "metadata": {
    "collapsed": true
   },
   "outputs": [],
   "source": [
    "A0 = sqrt(Rational(2,3))*Matrix([[1,0],[0,0]])\n",
    "A1 = Rational(1,4)*Matrix([[sqrt(Rational(2,3)),-sqrt(2)],[-sqrt(2),sqrt(6)]])\n",
    "A2 = Rational(1,4)*Matrix([[sqrt(Rational(2,3)),sqrt(2)],[sqrt(2),sqrt(6)]])\n",
    "Id = Matrix([[1,0],[0,1]])"
   ]
  },
  {
   "cell_type": "code",
   "execution_count": 3,
   "metadata": {
    "collapsed": true
   },
   "outputs": [],
   "source": [
    "A0I = TensorProduct(A0,Id)\n",
    "A1I = TensorProduct(A1,Id)\n",
    "A2I = TensorProduct(A2,Id)"
   ]
  },
  {
   "cell_type": "code",
   "execution_count": 4,
   "metadata": {
    "collapsed": true
   },
   "outputs": [],
   "source": [
    "alpha = Symbol(\"alpha\")\n",
    "beta = Symbol(\"beta\")"
   ]
  },
  {
   "cell_type": "code",
   "execution_count": 5,
   "metadata": {
    "collapsed": true
   },
   "outputs": [],
   "source": [
    "rho = Matrix([[alpha*conjugate(alpha), 0, 0, alpha*conjugate(beta)],\n",
    "              [0,0,0,0],\n",
    "              [0,0,0,0],\n",
    "              [beta*conjugate(alpha),0,0,beta*conjugate(beta)]])"
   ]
  },
  {
   "cell_type": "code",
   "execution_count": 6,
   "metadata": {
    "collapsed": true
   },
   "outputs": [],
   "source": [
    "def partial_trace(m):\n",
    "    return Matrix([[m[0]+m[10], m[1]+m[11]],\n",
    "                   [m[4]+m[14], m[5]+m[15]]])"
   ]
  },
  {
   "cell_type": "markdown",
   "metadata": {},
   "source": [
    "### j = 0\n",
    "#### probability"
   ]
  },
  {
   "cell_type": "code",
   "execution_count": 7,
   "metadata": {},
   "outputs": [
    {
     "data": {
      "image/png": "[encoded data removed]",
      "text/latex": [
       "$$\\frac{2 \\alpha}{3} \\overline{\\alpha}$$"
      ],
      "text/plain": [
       "    _\n",
       "2⋅α⋅α\n",
       "─────\n",
       "  3  "
      ]
     },
     "execution_count": 7,
     "metadata": {},
     "output_type": "execute_result"
    }
   ],
   "source": [
    "trace(A0I*rho*Dagger(A0I))"
   ]
  },
  {
   "cell_type": "markdown",
   "metadata": {},
   "source": [
    "#### post-measurement state"
   ]
  },
  {
   "cell_type": "code",
   "execution_count": 8,
   "metadata": {},
   "outputs": [
    {
     "data": {
      "text/latex": [
       "$$\\left[\\begin{matrix}1 & 0\\\\0 & 0\\end{matrix}\\right]$$"
      ],
      "text/plain": [
       "⎡1  0⎤\n",
       "⎢    ⎥\n",
       "⎣0  0⎦"
      ]
     },
     "execution_count": 8,
     "metadata": {},
     "output_type": "execute_result"
    }
   ],
   "source": [
    "partial_trace(A0I*rho*Dagger(A0I) / trace(A0I*rho*Dagger(A0I)))"
   ]
  },
  {
   "cell_type": "markdown",
   "metadata": {},
   "source": [
    "### j = 1\n",
    "#### probability"
   ]
  },
  {
   "cell_type": "code",
   "execution_count": 9,
   "metadata": {},
   "outputs": [
    {
     "data": {
      "image/png": "[encoded data removed]",
      "text/latex": [
       "$$\\frac{\\alpha \\overline{\\alpha}}{6} + \\frac{\\beta \\overline{\\beta}}{2}$$"
      ],
      "text/plain": [
       "  _     _\n",
       "α⋅α   β⋅β\n",
       "─── + ───\n",
       " 6     2 "
      ]
     },
     "execution_count": 9,
     "metadata": {},
     "output_type": "execute_result"
    }
   ],
   "source": [
    "trace(A1I*rho*Dagger(A1I))"
   ]
  },
  {
   "cell_type": "markdown",
   "metadata": {},
   "source": [
    "#### post-measurement state"
   ]
  },
  {
   "cell_type": "code",
   "execution_count": 10,
   "metadata": {},
   "outputs": [
    {
     "data": {
      "text/latex": [
       "$$\\left[\\begin{matrix}\\frac{\\alpha \\overline{\\alpha}}{\\alpha \\overline{\\alpha} + 3 \\beta \\overline{\\beta}} & - \\frac{\\sqrt{3} \\alpha \\overline{\\beta}}{\\alpha \\overline{\\alpha} + 3 \\beta \\overline{\\beta}}\\\\- \\frac{\\sqrt{3} \\beta \\overline{\\alpha}}{\\alpha \\overline{\\alpha} + 3 \\beta \\overline{\\beta}} & \\frac{\\beta \\overline{\\beta}}{\\frac{\\alpha \\overline{\\alpha}}{3} + \\beta \\overline{\\beta}}\\end{matrix}\\right]$$"
      ],
      "text/plain": [
       "⎡       _                _   ⎤\n",
       "⎢     α⋅α          -√3⋅α⋅β   ⎥\n",
       "⎢─────────────  ─────────────⎥\n",
       "⎢  ⎛  _     _⎞    ⎛  _     _⎞⎥\n",
       "⎢  ⎜α⋅α   β⋅β⎟    ⎜α⋅α   β⋅β⎟⎥\n",
       "⎢6⋅⎜─── + ───⎟  6⋅⎜─── + ───⎟⎥\n",
       "⎢  ⎝ 6     2 ⎠    ⎝ 6     2 ⎠⎥\n",
       "⎢                            ⎥\n",
       "⎢         _            _     ⎥\n",
       "⎢   -√3⋅β⋅α          β⋅β     ⎥\n",
       "⎢─────────────  ─────────────⎥\n",
       "⎢  ⎛  _     _⎞    ⎛  _     _⎞⎥\n",
       "⎢  ⎜α⋅α   β⋅β⎟    ⎜α⋅α   β⋅β⎟⎥\n",
       "⎢6⋅⎜─── + ───⎟  2⋅⎜─── + ───⎟⎥\n",
       "⎣  ⎝ 6     2 ⎠    ⎝ 6     2 ⎠⎦"
      ]
     },
     "execution_count": 10,
     "metadata": {},
     "output_type": "execute_result"
    }
   ],
   "source": [
    "partial_trace(A1I*rho*Dagger(A1I) / trace(A1I*rho*Dagger(A1I)))"
   ]
  },
  {
   "cell_type": "markdown",
   "metadata": {},
   "source": [
    "### j=2\n",
    "#### probability"
   ]
  },
  {
   "cell_type": "code",
   "execution_count": 11,
   "metadata": {},
   "outputs": [
    {
     "data": {
      "image/png": "[encoded data removed]",
      "text/latex": [
       "$$\\frac{\\alpha \\overline{\\alpha}}{6} + \\frac{\\beta \\overline{\\beta}}{2}$$"
      ],
      "text/plain": [
       "  _     _\n",
       "α⋅α   β⋅β\n",
       "─── + ───\n",
       " 6     2 "
      ]
     },
     "execution_count": 11,
     "metadata": {},
     "output_type": "execute_result"
    }
   ],
   "source": [
    "trace(A2I*rho*Dagger(A2I))"
   ]
  },
  {
   "cell_type": "markdown",
   "metadata": {},
   "source": [
    "#### post-measurement state"
   ]
  },
  {
   "cell_type": "code",
   "execution_count": 12,
   "metadata": {},
   "outputs": [
    {
     "data": {
      "text/latex": [
       "$$\\left[\\begin{matrix}\\frac{\\alpha \\overline{\\alpha}}{\\alpha \\overline{\\alpha} + 3 \\beta \\overline{\\beta}} & \\frac{\\sqrt{3} \\alpha \\overline{\\beta}}{\\alpha \\overline{\\alpha} + 3 \\beta \\overline{\\beta}}\\\\\\frac{\\sqrt{3} \\beta \\overline{\\alpha}}{\\alpha \\overline{\\alpha} + 3 \\beta \\overline{\\beta}} & \\frac{\\beta \\overline{\\beta}}{\\frac{\\alpha \\overline{\\alpha}}{3} + \\beta \\overline{\\beta}}\\end{matrix}\\right]$$"
      ],
      "text/plain": [
       "⎡       _                _   ⎤\n",
       "⎢     α⋅α           √3⋅α⋅β   ⎥\n",
       "⎢─────────────  ─────────────⎥\n",
       "⎢  ⎛  _     _⎞    ⎛  _     _⎞⎥\n",
       "⎢  ⎜α⋅α   β⋅β⎟    ⎜α⋅α   β⋅β⎟⎥\n",
       "⎢6⋅⎜─── + ───⎟  6⋅⎜─── + ───⎟⎥\n",
       "⎢  ⎝ 6     2 ⎠    ⎝ 6     2 ⎠⎥\n",
       "⎢                            ⎥\n",
       "⎢         _            _     ⎥\n",
       "⎢    √3⋅β⋅α          β⋅β     ⎥\n",
       "⎢─────────────  ─────────────⎥\n",
       "⎢  ⎛  _     _⎞    ⎛  _     _⎞⎥\n",
       "⎢  ⎜α⋅α   β⋅β⎟    ⎜α⋅α   β⋅β⎟⎥\n",
       "⎢6⋅⎜─── + ───⎟  2⋅⎜─── + ───⎟⎥\n",
       "⎣  ⎝ 6     2 ⎠    ⎝ 6     2 ⎠⎦"
      ]
     },
     "execution_count": 12,
     "metadata": {},
     "output_type": "execute_result"
    }
   ],
   "source": [
    "partial_trace(A2I*rho*Dagger(A2I) / trace(A2I*rho*Dagger(A2I)))"
   ]
  },
  {
   "cell_type": "markdown",
   "metadata": {},
   "source": [
    "### Density Matrix of Mixed State"
   ]
  },
  {
   "cell_type": "code",
   "execution_count": 13,
   "metadata": {},
   "outputs": [
    {
     "data": {
      "text/latex": [
       "$$\\left[\\begin{matrix}\\alpha \\overline{\\alpha} & 0\\\\0 & \\beta \\overline{\\beta}\\end{matrix}\\right]$$"
      ],
      "text/plain": [
       "⎡  _     ⎤\n",
       "⎢α⋅α   0 ⎥\n",
       "⎢        ⎥\n",
       "⎢       _⎥\n",
       "⎣ 0   β⋅β⎦"
      ]
     },
     "execution_count": 13,
     "metadata": {},
     "output_type": "execute_result"
    }
   ],
   "source": [
    "partial_trace( A0I*rho*Dagger(A0I) + A1I*rho*Dagger(A1I) + A2I*rho*Dagger(A2I))"
   ]
  }
 ],
 "metadata": {
  "kernelspec": {
   "display_name": "Python 2",
   "language": "python",
   "name": "python2"
  },
  "language_info": {
   "codemirror_mode": {
    "name": "ipython",
    "version": 2
   },
   "file_extension": ".py",
   "mimetype": "text/x-python",
   "name": "python",
   "nbconvert_exporter": "python",
   "pygments_lexer": "ipython2",
   "version": "2.7.13"
  }
 },
 "nbformat": 4,
 "nbformat_minor": 2
}
