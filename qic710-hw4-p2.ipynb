{
 "cells": [
  {
   "cell_type": "markdown",
   "metadata": {
    "collapsed": true
   },
   "source": [
    "# Problem 2\n",
    "## (a)\n",
    "First we express $\\left | \\psi \\right >$ as a linear combination of state vectors perpendicular and parallel to $\\left | \\phi \\right >$.\n",
    "$$\n",
    "\\left | \\psi \\right > = \\cos{\\theta} \\left | \\phi_\\bot \\right > + e^{i\\eta} \\sin{\\theta}  \\left | \\phi \\right >\n",
    "$$\n",
    "We can thus write down the matrix representation of $ \\left | \\psi \\right > \\left < \\psi  \\right | - \\left | \\phi \\right > \\left < \\phi  \\right | $."
   ]
  },
  {
   "cell_type": "code",
   "execution_count": 36,
   "metadata": {
    "collapsed": true
   },
   "outputs": [],
   "source": [
    "from sympy import *\n",
    "from IPython.display import *\n",
    "from sympy.physics.quantum import Dagger, TensorProduct\n",
    "init_printing()\n",
    "eta = Symbol(\"eta\", real=True, positive=True)\n",
    "theta = Symbol(\"theta\" , real=True, positive=True)"
   ]
  },
  {
   "cell_type": "code",
   "execution_count": 38,
   "metadata": {},
   "outputs": [
    {
     "data": {
      "text/latex": [
       "$$ \\left | \\psi \\right > \\left < \\psi  \\right | -              \\left | \\phi \\right > \\left < \\phi  \\right | =$$"
      ],
      "text/plain": [
       "<IPython.core.display.Math object>"
      ]
     },
     "metadata": {},
     "output_type": "display_data"
    },
    {
     "data": {
      "text/latex": [
       "$$\\left[\\begin{matrix}\\cos^{2}{\\left (\\theta \\right )} - 1 & e^{i \\eta} \\sin{\\left (\\theta \\right )} \\cos{\\left (\\theta \\right )}\\\\e^{- i \\eta} \\sin{\\left (\\theta \\right )} \\cos{\\left (\\theta \\right )} & \\sin^{2}{\\left (\\theta \\right )}\\end{matrix}\\right]$$"
      ],
      "text/plain": [
       "⎡       2              ⅈ⋅η              ⎤\n",
       "⎢    cos (θ) - 1      ℯ   ⋅sin(θ)⋅cos(θ)⎥\n",
       "⎢                                       ⎥\n",
       "⎢ -ⅈ⋅η                        2         ⎥\n",
       "⎣ℯ    ⋅sin(θ)⋅cos(θ)       sin (θ)      ⎦"
      ]
     },
     "execution_count": 38,
     "metadata": {},
     "output_type": "execute_result"
    }
   ],
   "source": [
    "display(Math(r\" \\left | \\psi \\right > \\left < \\psi  \\right | - \\\n",
    "             \\left | \\phi \\right > \\left < \\phi  \\right | =\"))\n",
    "m = Matrix([[cos(theta)**2-1, exp(I*eta)*sin(theta)*cos(theta)],\n",
    "            [exp(-I*eta)*sin(theta)*cos(theta), sin(theta)**2]]);m"
   ]
  },
  {
   "cell_type": "markdown",
   "metadata": {},
   "source": [
    "Solve for the eigen values of $ (\\left | \\psi \\right > \\left < \\psi  \\right | - \\left | \\phi \\right > \\left < \\phi  \\right | )^\\dagger (\\left | \\psi \\right > \\left < \\psi  \\right | - \\left | \\phi \\right > \\left < \\phi  \\right | )$, we have both of the eigen values be $\\sin^2{\\theta}$"
   ]
  },
  {
   "cell_type": "code",
   "execution_count": 40,
   "metadata": {},
   "outputs": [
    {
     "data": {
      "image/png": "[encoded data removed]",
      "text/latex": [
       "$$\\left \\{ \\sin^{2}{\\left (\\theta \\right )} : 2\\right \\}$$"
      ],
      "text/plain": [
       "⎧   2      ⎫\n",
       "⎨sin (θ): 2⎬\n",
       "⎩          ⎭"
      ]
     },
     "execution_count": 40,
     "metadata": {},
     "output_type": "execute_result"
    }
   ],
   "source": [
    "(Dagger(m)*m).eigenvals()"
   ]
  },
  {
   "cell_type": "markdown",
   "metadata": {},
   "source": [
    "Therefore, we have\n",
    "$$\n",
    "|\\left | \\psi \\right > \\left < \\psi  \\right | - \\left | \\phi \\right > \\left < \\phi  \\right ||_1 = 2\\sqrt{ \\sin^2\\theta} = 2\\sqrt{1 - \\cos^2\\theta} =  2\\sqrt{1 - |\\left < \\psi|\\phi\\right >|^2}\n",
    "$$"
   ]
  },
  {
   "cell_type": "markdown",
   "metadata": {},
   "source": [
    "## (b)\n",
    "By expanding $I$ into orthnormal basis in which $\\left | \\psi \\right >$ is one of the basis state\n",
    "$$I =  \\sum_{i=0}^{2^{d}-1} \\left | i \\right > \\left < i  \\right |$$,\n",
    " we have\n",
    "$$\n",
    "|\\left | \\psi \\right > \\left < \\psi  \\right | - I/d |_1 \\\\\n",
    "= | \\sum_{i=0}^{d-1}  (-\\frac{1}{d }+\\delta_{i\\psi})\n",
    "\\left | i \\right > \\left < i  \\right | |_1 \\\\\n",
    "= \\sum_{i=0}^{d-1} \\sqrt{ (-\\frac{1}{d }+\\delta_{i\\psi})^2 } \\\\\n",
    "= 2- \\frac{2}{d}\n",
    "$$"
   ]
  },
  {
   "cell_type": "markdown",
   "metadata": {},
   "source": [
    "As for the fidelity, we have\n",
    "$$\n",
    "F(\\left | \\psi \\right > \\left < \\psi  \\right | , I/d) = Tr(\\sqrt{ \\left | \\psi \\right > \\left < \\psi  \\right |  I/d \\left | \\psi \\right > \\left < \\psi  \\right | }) = \\sqrt{\\frac{1}{d}}\n",
    "$$"
   ]
  },
  {
   "cell_type": "markdown",
   "metadata": {},
   "source": [
    "The optimal probility is\n",
    "$$\n",
    "P = \\frac{1}{2} + \\frac{1}{4} |\\left | \\psi \\right > \\left < \\psi  \\right | - I/d |_1 = 1 - \\frac{1}{2d}\n",
    "$$\n"
   ]
  }
 ],
 "metadata": {
  "kernelspec": {
   "display_name": "Python 2",
   "language": "python",
   "name": "python2"
  },
  "language_info": {
   "codemirror_mode": {
    "name": "ipython",
    "version": 2
   },
   "file_extension": ".py",
   "mimetype": "text/x-python",
   "name": "python",
   "nbconvert_exporter": "python",
   "pygments_lexer": "ipython2",
   "version": "2.7.13"
  }
 },
 "nbformat": 4,
 "nbformat_minor": 2
}
