{
 "cells": [
  {
   "cell_type": "code",
   "execution_count": 1,
   "metadata": {
    "collapsed": true
   },
   "outputs": [],
   "source": [
    "from sympy import *\n",
    "from sympy.physics.quantum import Dagger, TensorProduct, Operator\n",
    "from sympy.physics.matrices import msigma\n",
    "from sympy.utilities.autowrap import ufuncify\n",
    "import matplotlib.pyplot as plt\n",
    "from IPython.display import *\n",
    "from scipy.optimize import brenth\n",
    "%matplotlib inline\n",
    "init_printing()"
   ]
  },
  {
   "cell_type": "code",
   "execution_count": 2,
   "metadata": {
    "collapsed": true
   },
   "outputs": [],
   "source": [
    "p = Symbol(\"p\", real=True, nonnegative=True, positive=True)\n",
    "A0= sqrt(1-3*p/4)*Identity(2).as_explicit()\n",
    "A1= sqrt(p)/2*msigma(1)\n",
    "A2= sqrt(p)/2*msigma(2)\n",
    "A3= sqrt(p)/2*msigma(3)\n",
    "I_half = Identity(2).as_explicit()/2\n",
    "rho = MatrixSymbol(\"rho\",2,2)"
   ]
  },
  {
   "cell_type": "code",
   "execution_count": 3,
   "metadata": {
    "collapsed": true
   },
   "outputs": [],
   "source": [
    "U = Matrix([[A0],[A1],[A2],[A3]]);\n",
    "U_Dagger = Matrix([[Dagger(A0)],[Dagger(A1)],[Dagger(A2)],[Dagger(A3)]]).transpose()"
   ]
  },
  {
   "cell_type": "markdown",
   "metadata": {},
   "source": [
    "# Problem 5\n",
    "## (a)\n",
    "Using the fact that $\\left<Tr_2 (U \\rho U^\\dagger)\\right>_{ij} = Tr(A_i \\rho A_j^\\dagger)$, we can compute $Tr_2 (U \\rho U^\\dagger)$."
   ]
  },
  {
   "cell_type": "code",
   "execution_count": 4,
   "metadata": {},
   "outputs": [
    {
     "data": {
      "text/latex": [
       "$$B_p(\\rho)=Tr_2 (U \\rho U^\\dagger)=$$"
      ],
      "text/plain": [
       "<IPython.core.display.Math object>"
      ]
     },
     "metadata": {},
     "output_type": "display_data"
    },
    {
     "data": {
      "text/latex": [
       "$$\\left[\\begin{matrix}- \\frac{3 p}{4} + 1 & \\frac{\\sqrt{p}}{4} \\sqrt{- 3 p + 4} \\left(\\rho_{0, 1} + \\rho_{1, 0}\\right) & \\frac{i \\sqrt{p}}{4} \\sqrt{- 3 p + 4} \\left(\\rho_{0, 1} - \\rho_{1, 0}\\right) & \\frac{\\sqrt{p}}{4} \\sqrt{- 3 p + 4} \\left(\\rho_{0, 0} - \\rho_{1, 1}\\right)\\\\\\frac{\\sqrt{p}}{4} \\sqrt{- 3 p + 4} \\left(\\rho_{0, 1} + \\rho_{1, 0}\\right) & \\frac{p}{4} & \\frac{i p}{4} \\left(- \\rho_{0, 0} + \\rho_{1, 1}\\right) & \\frac{p}{4} \\left(- \\rho_{0, 1} + \\rho_{1, 0}\\right)\\\\\\frac{i \\sqrt{p}}{4} \\sqrt{- 3 p + 4} \\left(\\rho_{0, 1} - \\rho_{1, 0}\\right) & \\frac{i p}{4} \\left(\\rho_{0, 0} - \\rho_{1, 1}\\right) & \\frac{p}{4} & - \\frac{i p}{4} \\left(\\rho_{0, 1} + \\rho_{1, 0}\\right)\\\\\\frac{\\sqrt{p}}{4} \\sqrt{- 3 p + 4} \\left(\\rho_{0, 0} - \\rho_{1, 1}\\right) & \\frac{p}{4} \\left(\\rho_{0, 1} - \\rho_{1, 0}\\right) & \\frac{i p}{4} \\left(\\rho_{0, 1} + \\rho_{1, 0}\\right) & \\frac{p}{4}\\end{matrix}\\right]$$"
      ],
      "text/plain": [
       "⎡                                    __________                     __________\n",
       "⎢            3⋅p                √p⋅╲╱ -3⋅p + 4 ⋅(ρ₀₁ + ρ₁₀)  ⅈ⋅√p⋅╲╱ -3⋅p + 4 \n",
       "⎢          - ─── + 1            ───────────────────────────  ─────────────────\n",
       "⎢             4                              4                             4  \n",
       "⎢                                                                             \n",
       "⎢      __________                                                             \n",
       "⎢ √p⋅╲╱ -3⋅p + 4 ⋅(ρ₀₁ + ρ₁₀)                p                     ⅈ⋅p⋅(-ρ₀₀ +\n",
       "⎢ ───────────────────────────                ─                     ───────────\n",
       "⎢              4                             4                            4   \n",
       "⎢                                                                             \n",
       "⎢       __________                                                            \n",
       "⎢ⅈ⋅√p⋅╲╱ -3⋅p + 4 ⋅(ρ₀₁ - ρ₁₀)        ⅈ⋅p⋅(ρ₀₀ - ρ₁₁)                      p  \n",
       "⎢─────────────────────────────        ───────────────                      ─  \n",
       "⎢              4                             4                             4  \n",
       "⎢                                                                             \n",
       "⎢      __________                                                             \n",
       "⎢ √p⋅╲╱ -3⋅p + 4 ⋅(ρ₀₀ - ρ₁₁)          p⋅(ρ₀₁ - ρ₁₀)                ⅈ⋅p⋅(ρ₀₁ +\n",
       "⎢ ───────────────────────────          ─────────────                ──────────\n",
       "⎣              4                             4                             4  \n",
       "\n",
       "                   __________            ⎤\n",
       "⋅(ρ₀₁ - ρ₁₀)  √p⋅╲╱ -3⋅p + 4 ⋅(ρ₀₀ - ρ₁₁)⎥\n",
       "────────────  ───────────────────────────⎥\n",
       "                           4             ⎥\n",
       "                                         ⎥\n",
       "                                         ⎥\n",
       " ρ₁₁)               p⋅(-ρ₀₁ + ρ₁₀)       ⎥\n",
       "─────               ──────────────       ⎥\n",
       "                          4              ⎥\n",
       "                                         ⎥\n",
       "                                         ⎥\n",
       "                   -ⅈ⋅p⋅(ρ₀₁ + ρ₁₀)      ⎥\n",
       "                   ─────────────────     ⎥\n",
       "                           4             ⎥\n",
       "                                         ⎥\n",
       "                                         ⎥\n",
       " ρ₁₀)                      p             ⎥\n",
       "─────                      ─             ⎥\n",
       "                           4             ⎦"
      ]
     },
     "execution_count": 4,
     "metadata": {},
     "output_type": "execute_result"
    }
   ],
   "source": [
    "rho_sub = rho.as_explicit()\n",
    "K=(U*Matrix([[rho_sub]])*U_Dagger)\n",
    "K = K.subs(rho, rho_sub)\n",
    "K = simplify(K)\n",
    "K = K.applyfunc(trace)\n",
    "K = simplify(K)\n",
    "K= K.subs(rho[0]+rho[3],1)\n",
    "K=K.subs(adjoint(sqrt(-3*p+4)),sqrt(-3*p+4))\n",
    "display(Math(r\"B_p(\\rho)=Tr_2 (U \\rho U^\\dagger)=\"))\n",
    "K"
   ]
  },
  {
   "cell_type": "markdown",
   "metadata": {},
   "source": [
    "We can find the two Kraus operators $B_1$ and $B_2$."
   ]
  },
  {
   "cell_type": "code",
   "execution_count": 32,
   "metadata": {},
   "outputs": [],
   "source": [
    "B1 = Matrix([[sqrt(-3*p/4+1),0],[0,sqrt(p)/2],[0,-I*sqrt(p)/2],[sqrt(p)/2,0]])\n",
    "B2 = Matrix([[0,sqrt(-3*p/4+1)],[sqrt(p)/2,0],[I*sqrt(p)/2,0],[0,-sqrt(p)/2]])"
   ]
  },
  {
   "cell_type": "code",
   "execution_count": 33,
   "metadata": {},
   "outputs": [
    {
     "data": {
      "text/latex": [
       "$$B_1=$$"
      ],
      "text/plain": [
       "<IPython.core.display.Math object>"
      ]
     },
     "metadata": {},
     "output_type": "display_data"
    },
    {
     "data": {
      "text/latex": [
       "$$\\left[\\begin{matrix}\\sqrt{- \\frac{3 p}{4} + 1} & 0\\\\0 & \\frac{\\sqrt{p}}{2}\\\\0 & - \\frac{i \\sqrt{p}}{2}\\\\\\frac{\\sqrt{p}}{2} & 0\\end{matrix}\\right]$$"
      ],
      "text/plain": [
       "⎡    ___________        ⎤\n",
       "⎢   ╱   3⋅p             ⎥\n",
       "⎢  ╱  - ─── + 1     0   ⎥\n",
       "⎢╲╱      4              ⎥\n",
       "⎢                       ⎥\n",
       "⎢                   √p  ⎥\n",
       "⎢       0           ──  ⎥\n",
       "⎢                   2   ⎥\n",
       "⎢                       ⎥\n",
       "⎢                 -ⅈ⋅√p ⎥\n",
       "⎢       0         ──────⎥\n",
       "⎢                   2   ⎥\n",
       "⎢                       ⎥\n",
       "⎢      √p               ⎥\n",
       "⎢      ──           0   ⎥\n",
       "⎣      2                ⎦"
      ]
     },
     "execution_count": 33,
     "metadata": {},
     "output_type": "execute_result"
    }
   ],
   "source": [
    "display(Math(r\"B_1=\")); B1"
   ]
  },
  {
   "cell_type": "code",
   "execution_count": 34,
   "metadata": {},
   "outputs": [
    {
     "data": {
      "text/latex": [
       "$$B_2=$$"
      ],
      "text/plain": [
       "<IPython.core.display.Math object>"
      ]
     },
     "metadata": {},
     "output_type": "display_data"
    },
    {
     "data": {
      "text/latex": [
       "$$\\left[\\begin{matrix}0 & \\sqrt{- \\frac{3 p}{4} + 1}\\\\\\frac{\\sqrt{p}}{2} & 0\\\\\\frac{i \\sqrt{p}}{2} & 0\\\\0 & - \\frac{\\sqrt{p}}{2}\\end{matrix}\\right]$$"
      ],
      "text/plain": [
       "⎡          ___________⎤\n",
       "⎢         ╱   3⋅p     ⎥\n",
       "⎢ 0      ╱  - ─── + 1 ⎥\n",
       "⎢      ╲╱      4      ⎥\n",
       "⎢                     ⎥\n",
       "⎢ √p                  ⎥\n",
       "⎢ ──          0       ⎥\n",
       "⎢ 2                   ⎥\n",
       "⎢                     ⎥\n",
       "⎢ⅈ⋅√p                 ⎥\n",
       "⎢────         0       ⎥\n",
       "⎢ 2                   ⎥\n",
       "⎢                     ⎥\n",
       "⎢           -√p       ⎥\n",
       "⎢ 0         ────      ⎥\n",
       "⎣            2        ⎦"
      ]
     },
     "execution_count": 34,
     "metadata": {},
     "output_type": "execute_result"
    }
   ],
   "source": [
    "display(Math(r\"B_2=\")); B2"
   ]
  },
  {
   "cell_type": "markdown",
   "metadata": {},
   "source": [
    "Verification:"
   ]
  },
  {
   "cell_type": "code",
   "execution_count": 36,
   "metadata": {},
   "outputs": [
    {
     "data": {
      "text/latex": [
       "$$B_1 \\rho B_1^\\dagger+B_2 \\rho B_2^\\dagger=$$"
      ],
      "text/plain": [
       "<IPython.core.display.Math object>"
      ]
     },
     "metadata": {},
     "output_type": "display_data"
    },
    {
     "data": {
      "text/latex": [
       "$$\\left[\\begin{matrix}- \\frac{3 p}{4} + 1 & \\frac{\\sqrt{p}}{4} \\sqrt{- 3 p + 4} \\left(\\rho_{0, 1} + \\rho_{1, 0}\\right) & \\frac{i \\sqrt{p}}{4} \\sqrt{- 3 p + 4} \\left(\\rho_{0, 1} - \\rho_{1, 0}\\right) & \\frac{\\sqrt{p}}{4} \\sqrt{- 3 p + 4} \\left(\\rho_{0, 0} - \\rho_{1, 1}\\right)\\\\\\frac{\\sqrt{p}}{4} \\sqrt{- 3 p + 4} \\left(\\rho_{0, 1} + \\rho_{1, 0}\\right) & \\frac{p}{4} & \\frac{i p}{4} \\left(- \\rho_{0, 0} + \\rho_{1, 1}\\right) & \\frac{p}{4} \\left(- \\rho_{0, 1} + \\rho_{1, 0}\\right)\\\\\\frac{i \\sqrt{p}}{4} \\sqrt{- 3 p + 4} \\left(\\rho_{0, 1} - \\rho_{1, 0}\\right) & \\frac{i p}{4} \\left(\\rho_{0, 0} - \\rho_{1, 1}\\right) & \\frac{p}{4} & - \\frac{i p}{4} \\left(\\rho_{0, 1} + \\rho_{1, 0}\\right)\\\\\\frac{\\sqrt{p}}{4} \\sqrt{- 3 p + 4} \\left(\\rho_{0, 0} - \\rho_{1, 1}\\right) & \\frac{p}{4} \\left(\\rho_{0, 1} - \\rho_{1, 0}\\right) & \\frac{i p}{4} \\left(\\rho_{0, 1} + \\rho_{1, 0}\\right) & \\frac{p}{4}\\end{matrix}\\right]$$"
      ],
      "text/plain": [
       "⎡                                    __________                     __________\n",
       "⎢            3⋅p                √p⋅╲╱ -3⋅p + 4 ⋅(ρ₀₁ + ρ₁₀)  ⅈ⋅√p⋅╲╱ -3⋅p + 4 \n",
       "⎢          - ─── + 1            ───────────────────────────  ─────────────────\n",
       "⎢             4                              4                             4  \n",
       "⎢                                                                             \n",
       "⎢      __________                                                             \n",
       "⎢ √p⋅╲╱ -3⋅p + 4 ⋅(ρ₀₁ + ρ₁₀)                p                     ⅈ⋅p⋅(-ρ₀₀ +\n",
       "⎢ ───────────────────────────                ─                     ───────────\n",
       "⎢              4                             4                            4   \n",
       "⎢                                                                             \n",
       "⎢       __________                                                            \n",
       "⎢ⅈ⋅√p⋅╲╱ -3⋅p + 4 ⋅(ρ₀₁ - ρ₁₀)        ⅈ⋅p⋅(ρ₀₀ - ρ₁₁)                      p  \n",
       "⎢─────────────────────────────        ───────────────                      ─  \n",
       "⎢              4                             4                             4  \n",
       "⎢                                                                             \n",
       "⎢      __________                                                             \n",
       "⎢ √p⋅╲╱ -3⋅p + 4 ⋅(ρ₀₀ - ρ₁₁)          p⋅(ρ₀₁ - ρ₁₀)                ⅈ⋅p⋅(ρ₀₁ +\n",
       "⎢ ───────────────────────────          ─────────────                ──────────\n",
       "⎣              4                             4                             4  \n",
       "\n",
       "                   __________            ⎤\n",
       "⋅(ρ₀₁ - ρ₁₀)  √p⋅╲╱ -3⋅p + 4 ⋅(ρ₀₀ - ρ₁₁)⎥\n",
       "────────────  ───────────────────────────⎥\n",
       "                           4             ⎥\n",
       "                                         ⎥\n",
       "                                         ⎥\n",
       " ρ₁₁)               p⋅(-ρ₀₁ + ρ₁₀)       ⎥\n",
       "─────               ──────────────       ⎥\n",
       "                          4              ⎥\n",
       "                                         ⎥\n",
       "                                         ⎥\n",
       "                   -ⅈ⋅p⋅(ρ₀₁ + ρ₁₀)      ⎥\n",
       "                   ─────────────────     ⎥\n",
       "                           4             ⎥\n",
       "                                         ⎥\n",
       "                                         ⎥\n",
       " ρ₁₀)                      p             ⎥\n",
       "─────                      ─             ⎥\n",
       "                           4             ⎦"
      ]
     },
     "execution_count": 36,
     "metadata": {},
     "output_type": "execute_result"
    }
   ],
   "source": [
    "display(Math(r\"B_1 \\rho B_1^\\dagger+B_2 \\rho B_2^\\dagger=\"))\n",
    "K2 = simplify(B1*rho.as_explicit()*Dagger(B1)+B2*rho.as_explicit()*Dagger(B2))\\\n",
    ".subs(rho[0]+rho[3],1).subs(adjoint(sqrt(-3*p+4)),sqrt(-3*p+4)); K2"
   ]
  },
  {
   "cell_type": "code",
   "execution_count": 41,
   "metadata": {},
   "outputs": [
    {
     "data": {
      "text/latex": [
       "$$Tr_2 (U \\rho U^\\dagger)=B_1 \\rho B_1^\\dagger+B_2 \\rho B_2^\\dagger :$$"
      ],
      "text/plain": [
       "<IPython.core.display.Math object>"
      ]
     },
     "metadata": {},
     "output_type": "display_data"
    },
    {
     "name": "stdout",
     "output_type": "stream",
     "text": [
      "True\n"
     ]
    }
   ],
   "source": [
    "display(Math(r\"Tr_2 (U \\rho U^\\dagger)=B_1 \\rho B_1^\\dagger+B_2 \\rho B_2^\\dagger :\"))\n",
    "print( K==K2)"
   ]
  },
  {
   "cell_type": "code",
   "execution_count": 5,
   "metadata": {
    "collapsed": true
   },
   "outputs": [],
   "source": [
    "def B(m):\n",
    "    K=(U*Matrix([[m]])*U_Dagger)\n",
    "    K = simplify(K)\n",
    "    K = K.applyfunc(trace)\n",
    "    K = simplify(K)\n",
    "    K=K.subs(adjoint(sqrt(-3*p+4)),sqrt(-3*p+4))\n",
    "    return K"
   ]
  },
  {
   "cell_type": "markdown",
   "metadata": {},
   "source": [
    "Compute $B(I/2)$, and we have"
   ]
  },
  {
   "cell_type": "code",
   "execution_count": 6,
   "metadata": {},
   "outputs": [
    {
     "data": {
      "text/latex": [
       "$$B_p(I/2)=$$"
      ],
      "text/plain": [
       "<IPython.core.display.Math object>"
      ]
     },
     "metadata": {},
     "output_type": "display_data"
    },
    {
     "data": {
      "text/latex": [
       "$$\\left[\\begin{matrix}- \\frac{3 p}{4} + 1 & 0 & 0 & 0\\\\0 & \\frac{p}{4} & 0 & 0\\\\0 & 0 & \\frac{p}{4} & 0\\\\0 & 0 & 0 & \\frac{p}{4}\\end{matrix}\\right]$$"
      ],
      "text/plain": [
       "⎡  3⋅p             ⎤\n",
       "⎢- ─── + 1  0  0  0⎥\n",
       "⎢   4              ⎥\n",
       "⎢                  ⎥\n",
       "⎢           p      ⎥\n",
       "⎢    0      ─  0  0⎥\n",
       "⎢           4      ⎥\n",
       "⎢                  ⎥\n",
       "⎢              p   ⎥\n",
       "⎢    0      0  ─  0⎥\n",
       "⎢              4   ⎥\n",
       "⎢                  ⎥\n",
       "⎢                 p⎥\n",
       "⎢    0      0  0  ─⎥\n",
       "⎣                 4⎦"
      ]
     },
     "execution_count": 6,
     "metadata": {},
     "output_type": "execute_result"
    }
   ],
   "source": [
    "display(Math(r\"B_p(I/2)=\"))\n",
    "B(I_half)"
   ]
  },
  {
   "cell_type": "markdown",
   "metadata": {},
   "source": [
    "## (b)"
   ]
  },
  {
   "cell_type": "code",
   "execution_count": 7,
   "metadata": {
    "collapsed": true
   },
   "outputs": [],
   "source": [
    "def A(m):\n",
    "    M= A0*m*Dagger(A0) + A1*m*Dagger(A1)+ A2*m*Dagger(A2)+A3*m*Dagger(A3)\n",
    "    M = M.subs(adjoint(sqrt(-3*p/4+1)),sqrt(-3*p/4+1))\n",
    "    return M"
   ]
  },
  {
   "cell_type": "code",
   "execution_count": 14,
   "metadata": {
    "collapsed": true
   },
   "outputs": [],
   "source": [
    "def logM(m):\n",
    "    def log2(a):\n",
    "        if a ==0:\n",
    "            return 0\n",
    "        else:\n",
    "            return log(a, 2)\n",
    "    P,D = m.diagonalize()\n",
    "    P = simplify(P)\n",
    "    D = simplify(D)\n",
    "    R = simplify(P*D.applyfunc(log2)*P.inv())\n",
    "    return simplify(R)\n",
    "def S(m):\n",
    "    return -simplify(trace(m*logM(m)))"
   ]
  },
  {
   "cell_type": "code",
   "execution_count": 43,
   "metadata": {},
   "outputs": [
    {
     "data": {
      "image/png": "[encoded data removed]",
      "text/latex": [
       "$$- \\frac{1}{4 \\log{\\left (2 \\right )}} \\left(- \\left(3 p - 4\\right) \\log{\\left (- \\frac{3 p}{4} + 1 \\right )} + \\log{\\left (\\left(\\frac{p}{4}\\right)^{3 p} \\right )}\\right)$$"
      ],
      "text/plain": [
       " ⎛                                ⎛   3⋅p⎞⎞ \n",
       " ⎜               ⎛  3⋅p    ⎞      ⎜⎛p⎞   ⎟⎟ \n",
       "-⎜- (3⋅p - 4)⋅log⎜- ─── + 1⎟ + log⎜⎜─⎟   ⎟⎟ \n",
       " ⎝               ⎝   4     ⎠      ⎝⎝4⎠   ⎠⎠ \n",
       "────────────────────────────────────────────\n",
       "                  4⋅log(2)                  "
      ]
     },
     "execution_count": 43,
     "metadata": {},
     "output_type": "execute_result"
    }
   ],
   "source": [
    "S(B(I_half))"
   ]
  },
  {
   "cell_type": "markdown",
   "metadata": {},
   "source": [
    "Using the results shown above, we can now compute $I_C (I/2, A_p)$, and we get"
   ]
  },
  {
   "cell_type": "code",
   "execution_count": 15,
   "metadata": {},
   "outputs": [
    {
     "data": {
      "text/latex": [
       "$$I_C (I/2, A_p)=$$"
      ],
      "text/plain": [
       "<IPython.core.display.Math object>"
      ]
     },
     "metadata": {},
     "output_type": "display_data"
    },
    {
     "data": {
      "image/png": "[encoded data removed]",
      "text/latex": [
       "$$\\frac{1}{4 \\log{\\left (2 \\right )}} \\left(- \\left(3 p - 4\\right) \\log{\\left (- \\frac{3 p}{4} + 1 \\right )} + \\log{\\left (\\left(\\frac{p}{4}\\right)^{3 p} \\right )}\\right) + 1$$"
      ],
      "text/plain": [
       "                                ⎛   3⋅p⎞    \n",
       "               ⎛  3⋅p    ⎞      ⎜⎛p⎞   ⎟    \n",
       "- (3⋅p - 4)⋅log⎜- ─── + 1⎟ + log⎜⎜─⎟   ⎟    \n",
       "               ⎝   4     ⎠      ⎝⎝4⎠   ⎠    \n",
       "──────────────────────────────────────── + 1\n",
       "                4⋅log(2)                    "
      ]
     },
     "execution_count": 15,
     "metadata": {},
     "output_type": "execute_result"
    }
   ],
   "source": [
    "IC = S(A(I_half)) - S(B(I_half))\n",
    "display(Math(r\"I_C (I/2, A_p)=\"))\n",
    "IC"
   ]
  },
  {
   "cell_type": "code",
   "execution_count": 16,
   "metadata": {
    "collapsed": true
   },
   "outputs": [],
   "source": [
    "IC_u = ufuncify(p,IC)"
   ]
  },
  {
   "cell_type": "code",
   "execution_count": 17,
   "metadata": {
    "collapsed": true
   },
   "outputs": [],
   "source": [
    "import numpy as np"
   ]
  },
  {
   "cell_type": "code",
   "execution_count": 18,
   "metadata": {
    "collapsed": true
   },
   "outputs": [],
   "source": [
    "x = np.linspace(0,1)\n",
    "y = IC_u(x)"
   ]
  },
  {
   "cell_type": "markdown",
   "metadata": {},
   "source": [
    "Ploting the $I_C (I/2, A_p)$ versus $p$, we have the figure shown below. Solve for the root numerically, and we get $I_C(I/2, A_{p=0.252})=0$."
   ]
  },
  {
   "cell_type": "code",
   "execution_count": 19,
   "metadata": {},
   "outputs": [
    {
     "data": {
      "image/png": "[encoded data removed]",
      "text/plain": [
       "<matplotlib.figure.Figure at 0x7f2bbe151a50>"
      ]
     },
     "metadata": {},
     "output_type": "display_data"
    }
   ],
   "source": [
    "plt.plot(x,y)\n",
    "plt.ylabel(r\"$I_C$\")\n",
    "plt.xlabel(r\"$p$\")\n",
    "r = brenth(IC_u,0,1)\n",
    "plt.plot(r, 0,'o', label=r\"$I_C(%.3f)=0 $\"%r)\n",
    "plt.legend()\n",
    "plt.show()"
   ]
  }
 ],
 "metadata": {
  "kernelspec": {
   "display_name": "Python 2",
   "language": "python",
   "name": "python2"
  },
  "language_info": {
   "codemirror_mode": {
    "name": "ipython",
    "version": 2
   },
   "file_extension": ".py",
   "mimetype": "text/x-python",
   "name": "python",
   "nbconvert_exporter": "python",
   "pygments_lexer": "ipython2",
   "version": "2.7.13"
  }
 },
 "nbformat": 4,
 "nbformat_minor": 2
}
