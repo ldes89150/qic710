{
 "cells": [
  {
   "cell_type": "code",
   "execution_count": 1,
   "metadata": {
    "collapsed": true
   },
   "outputs": [],
   "source": [
    "from sympy import *\n",
    "from sympy.physics.quantum import Dagger, TensorProduct\n",
    "from sympy.physics.matrices import msigma\n",
    "from sympy.physics.quantum.qubit import *\n",
    "from sympy.physics.quantum.gate import *\n",
    "from sympy.physics.quantum import *\n",
    "from IPython.display import *\n",
    "init_printing()"
   ]
  },
  {
   "cell_type": "code",
   "execution_count": 2,
   "metadata": {
    "collapsed": true
   },
   "outputs": [],
   "source": [
    "SWAP = SwapGate(0,1).get_target_matrix()"
   ]
  },
  {
   "cell_type": "markdown",
   "metadata": {},
   "source": [
    "# Problem 2\n",
    "## (a)\n",
    "Solve for the eigen value of $SWAP$ matrix, we get: One eigenvalue equals to $-1$, and three eigenvalues equal to $1$."
   ]
  },
  {
   "cell_type": "code",
   "execution_count": 21,
   "metadata": {},
   "outputs": [
    {
     "data": {
      "text/latex": [
       "$$SWAP=\\left[\\begin{matrix}1 & 0 & 0 & 0\\\\0 & 0 & 1 & 0\\\\0 & 1 & 0 & 0\\\\0 & 0 & 0 & 1\\end{matrix}\\right]$$"
      ],
      "text/plain": [
       "<IPython.core.display.Math object>"
      ]
     },
     "metadata": {},
     "output_type": "display_data"
    }
   ],
   "source": [
    "display(Math(\"SWAP=\"+ latex(SWAP)))"
   ]
  },
  {
   "cell_type": "code",
   "execution_count": 22,
   "metadata": {},
   "outputs": [
    {
     "data": {
      "image/png": "[encoded data removed]",
      "text/latex": [
       "$$\\left \\{ -1 : 1, \\quad 1 : 3\\right \\}$$"
      ],
      "text/plain": [
       "{-1: 1, 1: 3}"
      ]
     },
     "execution_count": 22,
     "metadata": {},
     "output_type": "execute_result"
    }
   ],
   "source": [
    "SWAP.eigenvals()"
   ]
  },
  {
   "cell_type": "markdown",
   "metadata": {},
   "source": [
    "## (b)\n",
    "To perform SWAP test, I use the circuit (from https://arxiv.org/pdf/1303.6814.pdf) shown below.\n",
    "![](Screenshot from 2017-11-30 18-22-12.png)\n",
    "After applying $(H \\otimes I \\otimes I)(CSWAP)(H \\otimes I \\otimes I)$, the state becomes\n",
    "$$\n",
    "\\frac{|0>(|\\phi>|\\psi>+|\\psi>|\\phi>+|1>(|\\phi>|\\psi>-|\\psi>|\\phi>)}{2}\n",
    "$$.\n",
    "By measuring the the first register, we can know which eigen space it falls in. ($0$ for $+1$ eigenspace and $1$ for $-1$ eigenspace)\n",
    "\n",
    "Thus, we know the probability of passing $SWAP$ test is\n",
    "$$\n",
    "p = \\frac{1}{4}(<\\phi|<\\psi|+<\\psi|<\\phi|)(|\\phi>|\\psi>+|\\psi>|\\phi>) = \\frac{1+|<\\psi|\\phi>|^2}{2}\n",
    "$$"
   ]
  },
  {
   "cell_type": "code",
   "execution_count": 6,
   "metadata": {
    "collapsed": true
   },
   "outputs": [],
   "source": [
    "from qutip import fredkin"
   ]
  },
  {
   "cell_type": "code",
   "execution_count": 7,
   "metadata": {},
   "outputs": [
    {
     "name": "stderr",
     "output_type": "stream",
     "text": [
      "/home/gilbert/anaconda2/lib/python2.7/site-packages/ipykernel_launcher.py:1: ComplexWarning: Casting complex values to real discards the imaginary part\n",
      "  \"\"\"Entry point for launching an IPython kernel.\n"
     ]
    }
   ],
   "source": [
    "CSWAP = Matrix(fredkin().full().astype(int))"
   ]
  },
  {
   "cell_type": "code",
   "execution_count": 8,
   "metadata": {
    "collapsed": true
   },
   "outputs": [],
   "source": [
    "H =HadamardGate().get_target_matrix()\n",
    "I2 =Matrix(Identity(2).as_explicit())"
   ]
  },
  {
   "cell_type": "markdown",
   "metadata": {},
   "source": [
    "## (c)\n",
    "The circuit can be expressed in the following unitary matrix $U$."
   ]
  },
  {
   "cell_type": "code",
   "execution_count": 24,
   "metadata": {},
   "outputs": [
    {
     "data": {
      "text/latex": [
       "$$U=(H \\otimes I \\otimes I)(CSWAP)(H \\otimes I \\otimes I)=$$"
      ],
      "text/plain": [
       "<IPython.core.display.Math object>"
      ]
     },
     "metadata": {},
     "output_type": "display_data"
    },
    {
     "data": {
      "text/latex": [
       "$$\\left[\\begin{matrix}1 & 0 & 0 & 0 & 0 & 0 & 0 & 0\\\\0 & \\frac{1}{2} & \\frac{1}{2} & 0 & 0 & \\frac{1}{2} & - \\frac{1}{2} & 0\\\\0 & \\frac{1}{2} & \\frac{1}{2} & 0 & 0 & - \\frac{1}{2} & \\frac{1}{2} & 0\\\\0 & 0 & 0 & 1 & 0 & 0 & 0 & 0\\\\0 & 0 & 0 & 0 & 1 & 0 & 0 & 0\\\\0 & \\frac{1}{2} & - \\frac{1}{2} & 0 & 0 & \\frac{1}{2} & \\frac{1}{2} & 0\\\\0 & - \\frac{1}{2} & \\frac{1}{2} & 0 & 0 & \\frac{1}{2} & \\frac{1}{2} & 0\\\\0 & 0 & 0 & 0 & 0 & 0 & 0 & 1\\end{matrix}\\right]$$"
      ],
      "text/plain": [
       "<IPython.core.display.Math object>"
      ]
     },
     "metadata": {},
     "output_type": "display_data"
    }
   ],
   "source": [
    "display(Math(\"U=(H \\otimes I \\otimes I)(CSWAP)(H \\otimes I \\otimes I)=\"))\n",
    "U =TensorProduct(H,I2,I2)*CSWAP*TensorProduct(H,I2,I2)\n",
    "display(Math(latex(U)))"
   ]
  },
  {
   "cell_type": "code",
   "execution_count": 11,
   "metadata": {
    "collapsed": true
   },
   "outputs": [],
   "source": [
    "r1x,r1y,r1z = symbols(\"r_x,r_y,r_z\")\n",
    "r2x,r2y,r2z = symbols(\"r'_x,r'_y,r'_z\")"
   ]
  },
  {
   "cell_type": "code",
   "execution_count": 12,
   "metadata": {
    "collapsed": true
   },
   "outputs": [],
   "source": [
    "rho = (I2+r1x*msigma(1)+r1y*msigma(2)+r1z*msigma(3))/2\n",
    "sigma = (I2+r2x*msigma(1)+r2y*msigma(2)+r2z*msigma(3))/2"
   ]
  },
  {
   "cell_type": "code",
   "execution_count": 15,
   "metadata": {
    "collapsed": true
   },
   "outputs": [],
   "source": [
    "state0 = Matrix([[1,0],[0,0]])\n",
    "state1 = Matrix([[0,0],[0,1]])"
   ]
  },
  {
   "cell_type": "markdown",
   "metadata": {},
   "source": [
    "Apply the circuit on the state, we get $U(|0><0| \\otimes \\rho \\otimes \\sigma)U^\\dagger$."
   ]
  },
  {
   "cell_type": "code",
   "execution_count": 35,
   "metadata": {},
   "outputs": [],
   "source": [
    "rho_after = simplify(U*TensorProduct(state0, rho, sigma)*U)"
   ]
  },
  {
   "cell_type": "markdown",
   "metadata": {},
   "source": [
    "To measure the first register, we can use the following POVM operator.\n",
    "$$\n",
    "E_0 = |0><0| \\otimes I \\otimes I\n",
    "$$\n",
    "$$\n",
    "E_1 = |1><1| \\otimes I \\otimes I\n",
    "$$"
   ]
  },
  {
   "cell_type": "code",
   "execution_count": 17,
   "metadata": {
    "collapsed": true
   },
   "outputs": [],
   "source": [
    "E0 = TensorProduct(state0,I2,I2)\n",
    "E1 = TensorProduct(state1,I2,I2)"
   ]
  },
  {
   "cell_type": "markdown",
   "metadata": {},
   "source": [
    "The probability of passing $SWAP$ test becomes:"
   ]
  },
  {
   "cell_type": "code",
   "execution_count": 32,
   "metadata": {},
   "outputs": [
    {
     "data": {
      "text/latex": [
       "$$Tr(E_0 (U(|0><0| \\otimes \\rho \\otimes \\sigma)U^\\dagger)=$$"
      ],
      "text/plain": [
       "<IPython.core.display.Math object>"
      ]
     },
     "metadata": {},
     "output_type": "display_data"
    },
    {
     "data": {
      "image/png": "[encoded data removed]",
      "text/latex": [
       "$$\\frac{r'_{x} r_{x}}{4} + \\frac{r'_{y} r_{y}}{4} + \\frac{r'_{z} r_{z}}{4} + \\frac{3}{4}$$"
      ],
      "text/plain": [
       "r'ₓ⋅rₓ   r'_y⋅r_y   r'_z⋅r_z   3\n",
       "────── + ──────── + ──────── + ─\n",
       "  4         4          4       4"
      ]
     },
     "execution_count": 32,
     "metadata": {},
     "output_type": "execute_result"
    }
   ],
   "source": [
    "display(Math(r\"Tr(E_0 (U(|0><0| \\otimes \\rho \\otimes \\sigma)U^\\dagger)=\"))\n",
    "p0=simplify(trace(E0*simplify(U*TensorProduct(state0, rho, sigma)*U)));p0"
   ]
  },
  {
   "cell_type": "code",
   "execution_count": 29,
   "metadata": {
    "collapsed": true
   },
   "outputs": [],
   "source": [
    "#p1=simplify(trace(E1*simplify(U*TensorProduct(state0, rho, sigma)*U)));p1"
   ]
  }
 ],
 "metadata": {
  "kernelspec": {
   "display_name": "Python 2",
   "language": "python",
   "name": "python2"
  },
  "language_info": {
   "codemirror_mode": {
    "name": "ipython",
    "version": 2
   },
   "file_extension": ".py",
   "mimetype": "text/x-python",
   "name": "python",
   "nbconvert_exporter": "python",
   "pygments_lexer": "ipython2",
   "version": "2.7.13"
  }
 },
 "nbformat": 4,
 "nbformat_minor": 2
}
