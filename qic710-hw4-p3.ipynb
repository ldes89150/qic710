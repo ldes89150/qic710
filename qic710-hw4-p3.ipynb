{
 "cells": [
  {
   "cell_type": "code",
   "execution_count": 1,
   "metadata": {
    "collapsed": true
   },
   "outputs": [],
   "source": [
    "from sympy import *\n",
    "import numpy as np\n",
    "from sympy.physics.quantum import Dagger, TensorProduct\n",
    "from sympy.physics.matrices import msigma\n",
    "from IPython.display import *\n",
    "init_printing()"
   ]
  },
  {
   "cell_type": "markdown",
   "metadata": {},
   "source": [
    "# Problem 3\n",
    "The successful probablity of distinguishing two density matrixs $m_1$ and $m_2$ are given by \n",
    "$$\n",
    "\\frac{1}{2} + \\frac{1}{4} |m_1 - m_2 |_1\n",
    "$$"
   ]
  },
  {
   "cell_type": "code",
   "execution_count": 7,
   "metadata": {
    "collapsed": true
   },
   "outputs": [],
   "source": [
    "X = msigma(1)\n",
    "Y = msigma(2)\n",
    "Z = msigma(3)\n",
    "I = Matrix([[1,0],[0,1]])\n",
    "state0 = Matrix([[1,0],[0,0]])\n",
    "state1 = Matrix([[0,0],[0,1]])\n",
    "stateplus = Rational(1,2)*Matrix([[1,1],[1,1]])"
   ]
  },
  {
   "cell_type": "code",
   "execution_count": 65,
   "metadata": {
    "collapsed": true
   },
   "outputs": [],
   "source": [
    "def A(rho):\n",
    "    p = Symbol(\"p\", real=True,positive=True)\n",
    "    return (1-p)*rho+p*I/2\n",
    "\n",
    "def distance(m1, m2):\n",
    "    M = simplify(m1-m2)\n",
    "    P,D = (simplify(Dagger(M)*M)).diagonalize()\n",
    "    P = simplify(P)\n",
    "    D = simplify(D)\n",
    "    R = simplify(P*D.applyfunc(sqrt)*P.inv())\n",
    "    return simplify(trace(R))\n",
    "\n",
    "def distingush_probablity(m1, m2):\n",
    "    return simplify(Rational(1,2)+distance(m1, m2)/4)"
   ]
  },
  {
   "cell_type": "markdown",
   "metadata": {},
   "source": [
    "## (a)"
   ]
  },
  {
   "cell_type": "code",
   "execution_count": 58,
   "metadata": {},
   "outputs": [
    {
     "data": {
      "text/latex": [
       "$$\\frac{1}{2} + \\frac{1}{4} \\left|A(| 0 > < 0| ) - A(| 1> < 1| ) \\right|_1 = $$"
      ],
      "text/plain": [
       "<IPython.core.display.Math object>"
      ]
     },
     "metadata": {},
     "output_type": "display_data"
    },
    {
     "data": {
      "image/png": "[encoded data removed]",
      "text/latex": [
       "$$\\frac{1}{2} \\left|{p - 1}\\right| + \\frac{1}{2}$$"
      ],
      "text/plain": [
       "│p - 1│   1\n",
       "─────── + ─\n",
       "   2      2"
      ]
     },
     "execution_count": 58,
     "metadata": {},
     "output_type": "execute_result"
    }
   ],
   "source": [
    "display(Math(r\"\\frac{1}{2} + \\frac{1}{4} \\left|A(| 0 > < 0| ) - A(| 1> < 1| ) \\right|_1 = \"))\n",
    "distingush_probablity(A(state0), A(state1))"
   ]
  },
  {
   "cell_type": "code",
   "execution_count": 68,
   "metadata": {},
   "outputs": [
    {
     "data": {
      "text/latex": [
       "$$\\left[\\begin{matrix}- \\frac{p}{2} + 1 & 0\\\\0 & \\frac{p}{2}\\end{matrix}\\right]$$"
      ],
      "text/plain": [
       "⎡  p       ⎤\n",
       "⎢- ─ + 1  0⎥\n",
       "⎢  2       ⎥\n",
       "⎢          ⎥\n",
       "⎢         p⎥\n",
       "⎢   0     ─⎥\n",
       "⎣         2⎦"
      ]
     },
     "execution_count": 68,
     "metadata": {},
     "output_type": "execute_result"
    }
   ],
   "source": [
    "A(state0)"
   ]
  },
  {
   "cell_type": "markdown",
   "metadata": {},
   "source": [
    "The probablity is $1-\\frac{p}{2}$.\n",
    "The optimal measurement operators are $| 0 > < 0| $ and $| 1 > < 1|$. One can easily verify:"
   ]
  },
  {
   "cell_type": "code",
   "execution_count": 73,
   "metadata": {},
   "outputs": [
    {
     "data": {
      "text/latex": [
       "$$tr( |0 > < 0| A(| 0 > < 0| ) |0 > < 0|) = $$"
      ],
      "text/plain": [
       "<IPython.core.display.Math object>"
      ]
     },
     "metadata": {},
     "output_type": "display_data"
    },
    {
     "data": {
      "image/png": "[encoded data removed]",
      "text/latex": [
       "$$- \\frac{p}{2} + 1$$"
      ],
      "text/plain": [
       "  p    \n",
       "- ─ + 1\n",
       "  2    "
      ]
     },
     "execution_count": 73,
     "metadata": {},
     "output_type": "execute_result"
    }
   ],
   "source": [
    "display(Math(r\"tr( |0 > < 0| A(| 0 > < 0| ) |0 > < 0|) = \"))\n",
    "trace(state0*A(state0)*state0)"
   ]
  },
  {
   "cell_type": "code",
   "execution_count": 74,
   "metadata": {},
   "outputs": [
    {
     "data": {
      "text/latex": [
       "$$tr( |1 > < 1| A(| 1 > < 1| ) |1 > < 1|) = $$"
      ],
      "text/plain": [
       "<IPython.core.display.Math object>"
      ]
     },
     "metadata": {},
     "output_type": "display_data"
    },
    {
     "data": {
      "image/png": "[encoded data removed]",
      "text/latex": [
       "$$- \\frac{p}{2} + 1$$"
      ],
      "text/plain": [
       "  p    \n",
       "- ─ + 1\n",
       "  2    "
      ]
     },
     "execution_count": 74,
     "metadata": {},
     "output_type": "execute_result"
    }
   ],
   "source": [
    "display(Math(r\"tr( |1 > < 1| A(| 1 > < 1| ) |1 > < 1|) = \"))\n",
    "trace(state1*A(state1)*state1)"
   ]
  },
  {
   "cell_type": "markdown",
   "metadata": {},
   "source": [
    "## (b)"
   ]
  },
  {
   "cell_type": "code",
   "execution_count": 59,
   "metadata": {},
   "outputs": [
    {
     "data": {
      "text/latex": [
       "$$\\frac{1}{2} + \\frac{1}{4} \\left|A(| 0 > < 0| ) - A(| +> < +| ) \\right|_1 = $$"
      ],
      "text/plain": [
       "<IPython.core.display.Math object>"
      ]
     },
     "metadata": {},
     "output_type": "display_data"
    },
    {
     "data": {
      "image/png": "[encoded data removed]",
      "text/latex": [
       "$$\\frac{\\sqrt{2}}{4} \\left|{p - 1}\\right| + \\frac{1}{2}$$"
      ],
      "text/plain": [
       "√2⋅│p - 1│   1\n",
       "────────── + ─\n",
       "    4        2"
      ]
     },
     "execution_count": 59,
     "metadata": {},
     "output_type": "execute_result"
    }
   ],
   "source": [
    "display(Math(r\"\\frac{1}{2} + \\frac{1}{4} \\left|A(| 0 > < 0| ) - A(| +> < +| ) \\right|_1 = \"))\n",
    "distingush_probablity(A(state0), A(stateplus))"
   ]
  },
  {
   "cell_type": "markdown",
   "metadata": {},
   "source": [
    "The probablity is $- \\frac{\\sqrt{2} p}{4} + \\frac{\\sqrt{2}}{4} + \\frac{1}{2}$."
   ]
  },
  {
   "cell_type": "code",
   "execution_count": 98,
   "metadata": {},
   "outputs": [],
   "source": [
    "operator0 = simplify(transpose(Matrix([[cos(pi/8), sin(pi/8) ]]))* Matrix([[cos(pi/8), sin(pi/8) ]]))\n",
    "operator1 = simplify(transpose(Matrix([[-sin(pi/8), cos(pi/8) ]]))* Matrix([[-sin(pi/8), cos(pi/8) ]]))"
   ]
  },
  {
   "cell_type": "markdown",
   "metadata": {},
   "source": [
    "The optimal measurement operators $A_0$ and $A_1$ (same as the ones we find in homework 1) are:"
   ]
  },
  {
   "cell_type": "code",
   "execution_count": 113,
   "metadata": {},
   "outputs": [
    {
     "data": {
      "text/latex": [
       "$$ A_0 = $$"
      ],
      "text/plain": [
       "<IPython.core.display.Math object>"
      ]
     },
     "metadata": {},
     "output_type": "display_data"
    },
    {
     "data": {
      "text/latex": [
       "$$\\left[\\begin{matrix}\\frac{\\sqrt{2}}{4} + \\frac{1}{2} & \\frac{\\sqrt{2}}{4}\\\\\\frac{\\sqrt{2}}{4} & - \\frac{\\sqrt{2}}{4} + \\frac{1}{2}\\end{matrix}\\right]$$"
      ],
      "text/plain": [
       "⎡√2   1     √2   ⎤\n",
       "⎢── + ─     ──   ⎥\n",
       "⎢4    2     4    ⎥\n",
       "⎢                ⎥\n",
       "⎢  √2      √2   1⎥\n",
       "⎢  ──    - ── + ─⎥\n",
       "⎣  4       4    2⎦"
      ]
     },
     "execution_count": 113,
     "metadata": {},
     "output_type": "execute_result"
    }
   ],
   "source": [
    "display(Math(r\" A_0 = \")); operator0"
   ]
  },
  {
   "cell_type": "code",
   "execution_count": 114,
   "metadata": {},
   "outputs": [
    {
     "data": {
      "text/latex": [
       "$$ A_1 = $$"
      ],
      "text/plain": [
       "<IPython.core.display.Math object>"
      ]
     },
     "metadata": {},
     "output_type": "display_data"
    },
    {
     "data": {
      "text/latex": [
       "$$\\left[\\begin{matrix}- \\frac{\\sqrt{2}}{4} + \\frac{1}{2} & - \\frac{\\sqrt{2}}{4}\\\\- \\frac{\\sqrt{2}}{4} & \\frac{\\sqrt{2}}{4} + \\frac{1}{2}\\end{matrix}\\right]$$"
      ],
      "text/plain": [
       "⎡  √2   1   -√2  ⎤\n",
       "⎢- ── + ─   ──── ⎥\n",
       "⎢  4    2    4   ⎥\n",
       "⎢                ⎥\n",
       "⎢  -√2     √2   1⎥\n",
       "⎢  ────    ── + ─⎥\n",
       "⎣   4      4    2⎦"
      ]
     },
     "execution_count": 114,
     "metadata": {},
     "output_type": "execute_result"
    }
   ],
   "source": [
    "display(Math(r\" A_1 = \")); operator1"
   ]
  },
  {
   "cell_type": "markdown",
   "metadata": {},
   "source": [
    "Verification:"
   ]
  },
  {
   "cell_type": "code",
   "execution_count": 115,
   "metadata": {},
   "outputs": [
    {
     "data": {
      "text/latex": [
       "$$tr( A_0 A(| 0 > < 0| ) A_0^\\dagger) = $$"
      ],
      "text/plain": [
       "<IPython.core.display.Math object>"
      ]
     },
     "metadata": {},
     "output_type": "display_data"
    },
    {
     "data": {
      "image/png": "[encoded data removed]",
      "text/latex": [
       "$$- \\frac{\\sqrt{2} p}{4} + \\frac{\\sqrt{2}}{4} + \\frac{1}{2}$$"
      ],
      "text/plain": [
       "  √2⋅p   √2   1\n",
       "- ──── + ── + ─\n",
       "   4     4    2"
      ]
     },
     "execution_count": 115,
     "metadata": {},
     "output_type": "execute_result"
    }
   ],
   "source": [
    "display(Math(r\"tr( A_0 A(| 0 > < 0| ) A_0^\\dagger) = \"))\n",
    "simplify(trace(operator0*A(state0)*operator0)) "
   ]
  },
  {
   "cell_type": "code",
   "execution_count": 116,
   "metadata": {},
   "outputs": [
    {
     "data": {
      "text/latex": [
       "$$tr( A_1 A(| 1 > < 1| ) A_1^\\dagger) = $$"
      ],
      "text/plain": [
       "<IPython.core.display.Math object>"
      ]
     },
     "metadata": {},
     "output_type": "display_data"
    },
    {
     "data": {
      "image/png": "[encoded data removed]",
      "text/latex": [
       "$$- \\frac{\\sqrt{2} p}{4} + \\frac{\\sqrt{2}}{4} + \\frac{1}{2}$$"
      ],
      "text/plain": [
       "  √2⋅p   √2   1\n",
       "- ──── + ── + ─\n",
       "   4     4    2"
      ]
     },
     "execution_count": 116,
     "metadata": {},
     "output_type": "execute_result"
    }
   ],
   "source": [
    "display(Math(r\"tr( A_1 A(| 1 > < 1| ) A_1^\\dagger) = \"))\n",
    "simplify(trace(operator1*A(state1)*operator1)) "
   ]
  }
 ],
 "metadata": {
  "kernelspec": {
   "display_name": "Python 2",
   "language": "python",
   "name": "python2"
  },
  "language_info": {
   "codemirror_mode": {
    "name": "ipython",
    "version": 2
   },
   "file_extension": ".py",
   "mimetype": "text/x-python",
   "name": "python",
   "nbconvert_exporter": "python",
   "pygments_lexer": "ipython2",
   "version": "2.7.13"
  }
 },
 "nbformat": 4,
 "nbformat_minor": 2
}
