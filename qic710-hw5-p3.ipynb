{
 "cells": [
  {
   "cell_type": "code",
   "execution_count": 1,
   "metadata": {
    "collapsed": true
   },
   "outputs": [],
   "source": [
    "from sympy import *\n",
    "from sympy.physics.quantum import Dagger, TensorProduct\n",
    "from sympy.physics.matrices import msigma\n",
    "from sympy.physics.quantum.qubit import *\n",
    "from sympy.physics.quantum.gate import *\n",
    "from sympy.physics.quantum import *\n",
    "from IPython.display import *\n",
    "init_printing()"
   ]
  },
  {
   "cell_type": "code",
   "execution_count": 2,
   "metadata": {},
   "outputs": [],
   "source": [
    "A = Ket(\"A\")\n",
    "B = Ket(\"B\")\n",
    "theta = Symbol(\"theta\", real=True)\n",
    "theta_state = sin(theta)*A + cos(theta)*B"
   ]
  },
  {
   "cell_type": "code",
   "execution_count": 3,
   "metadata": {},
   "outputs": [],
   "source": [
    "Uf = 2*B*B.dual- IdentityOperator()\n",
    "minusHUH = 2*theta_state*Dagger(theta_state) - IdentityOperator()"
   ]
  },
  {
   "cell_type": "markdown",
   "metadata": {},
   "source": [
    "# Problem 3\n",
    "First, we have"
   ]
  },
  {
   "cell_type": "code",
   "execution_count": 4,
   "metadata": {},
   "outputs": [
    {
     "data": {
      "text/latex": [
       "$$U_f = - {\\mathcal{I}} + 2 {\\left|B\\right\\rangle } {\\left\\langle B\\right|}$$"
      ],
      "text/plain": [
       "<IPython.core.display.Math object>"
      ]
     },
     "metadata": {},
     "output_type": "display_data"
    },
    {
     "data": {
      "text/latex": [
       "$$-HU_0H = 2 \\left(\\sin{\\left (\\theta \\right )} {\\left|A\\right\\rangle } + \\cos{\\left (\\theta \\right )} {\\left|B\\right\\rangle }\\right) \\left(\\sin{\\left (\\theta \\right )} {\\left\\langle A\\right|} + \\cos{\\left (\\theta \\right )} {\\left\\langle B\\right|}\\right) - {\\mathcal{I}}$$"
      ],
      "text/plain": [
       "<IPython.core.display.Math object>"
      ]
     },
     "metadata": {},
     "output_type": "display_data"
    }
   ],
   "source": [
    "display(Math(\"U_f = \" + latex(Uf)))\n",
    "display(Math(\"-HU_0H = \"+ latex(minusHUH)))"
   ]
  },
  {
   "cell_type": "markdown",
   "metadata": {},
   "source": [
    "After applying the multiplication, we get:"
   ]
  },
  {
   "cell_type": "code",
   "execution_count": 5,
   "metadata": {},
   "outputs": [
    {
     "data": {
      "text/latex": [
       "$$-HU_0HU_f=$$"
      ],
      "text/plain": [
       "<IPython.core.display.Math object>"
      ]
     },
     "metadata": {},
     "output_type": "display_data"
    },
    {
     "data": {
      "text/latex": [
       "$$4 \\sin^{2}{\\left (\\theta \\right )} \\left\\langle A \\right. {\\left|B\\right\\rangle } {\\left|A\\right\\rangle } {\\left\\langle B\\right|} - 2 \\sin^{2}{\\left (\\theta \\right )} {\\left|A\\right\\rangle } {\\left\\langle A\\right|} + 4 \\sin{\\left (\\theta \\right )} \\cos{\\left (\\theta \\right )} \\left\\langle A \\right. {\\left|B\\right\\rangle } {\\left|B\\right\\rangle } {\\left\\langle B\\right|} + 4 \\sin{\\left (\\theta \\right )} \\cos{\\left (\\theta \\right )} \\left\\langle B \\right. {\\left|B\\right\\rangle } {\\left|A\\right\\rangle } {\\left\\langle B\\right|} - 2 \\sin{\\left (\\theta \\right )} \\cos{\\left (\\theta \\right )} {\\left|A\\right\\rangle } {\\left\\langle B\\right|} - 2 \\sin{\\left (\\theta \\right )} \\cos{\\left (\\theta \\right )} {\\left|B\\right\\rangle } {\\left\\langle A\\right|} + 4 \\cos^{2}{\\left (\\theta \\right )} \\left\\langle B \\right. {\\left|B\\right\\rangle } {\\left|B\\right\\rangle } {\\left\\langle B\\right|} - 2 \\cos^{2}{\\left (\\theta \\right )} {\\left|B\\right\\rangle } {\\left\\langle B\\right|} + {\\mathcal{I}} - 2 {\\left|B\\right\\rangle } {\\left\\langle B\\right|}$$"
      ],
      "text/plain": [
       "<IPython.core.display.Math object>"
      ]
     },
     "metadata": {},
     "output_type": "display_data"
    },
    {
     "data": {
      "text/latex": [
       "$$= - 2 \\sin^{2}{\\left (\\theta \\right )} {\\left|A\\right\\rangle } {\\left\\langle A\\right|} + 2 \\sin{\\left (\\theta \\right )} \\cos{\\left (\\theta \\right )} {\\left|A\\right\\rangle } {\\left\\langle B\\right|} - 2 \\sin{\\left (\\theta \\right )} \\cos{\\left (\\theta \\right )} {\\left|B\\right\\rangle } {\\left\\langle A\\right|} + 2 \\cos^{2}{\\left (\\theta \\right )} {\\left|B\\right\\rangle } {\\left\\langle B\\right|} + {\\mathcal{I}} - 2 {\\left|B\\right\\rangle } {\\left\\langle B\\right|}$$"
      ],
      "text/plain": [
       "<IPython.core.display.Math object>"
      ]
     },
     "metadata": {},
     "output_type": "display_data"
    }
   ],
   "source": [
    "m = qapply(minusHUH*Uf, ip_doit=True)\n",
    "display(Math(\"-HU_0HU_f=\"))\n",
    "display(Math(latex(m)))\n",
    "m = m.subs(InnerProduct(A.dual,B),0)\n",
    "m = m.subs(InnerProduct(B.dual,B),1)\n",
    "display(Math(\"= \"+ latex(m)))"
   ]
  },
  {
   "cell_type": "markdown",
   "metadata": {},
   "source": [
    "Express it in matrix representation, and we have:"
   ]
  },
  {
   "cell_type": "code",
   "execution_count": 6,
   "metadata": {},
   "outputs": [],
   "source": [
    "m = m.subs(A,Qubit(0))\n",
    "m = m.subs(B,Qubit(1))\n",
    "m = m.subs(A.adjoint(),Qubit(0).adjoint())\n",
    "m = m.subs(B.adjoint(),Qubit(1).adjoint())\n",
    "m = m.subs(IdentityOperator(), Qubit(0)*Qubit(0).adjoint()+Qubit(1)*Qubit(1).adjoint())"
   ]
  },
  {
   "cell_type": "code",
   "execution_count": 7,
   "metadata": {},
   "outputs": [
    {
     "data": {
      "text/latex": [
       "$$-HU_0HU_f = \\left[\\begin{matrix}- 2 \\sin^{2}{\\left (\\theta \\right )} + 1 & 2 \\sin{\\left (\\theta \\right )} \\cos{\\left (\\theta \\right )}\\\\- 2 \\sin{\\left (\\theta \\right )} \\cos{\\left (\\theta \\right )} & 2 \\cos^{2}{\\left (\\theta \\right )} - 1\\end{matrix}\\right]=\\left[\\begin{matrix}\\cos{\\left (2 \\theta \\right )} & \\sin{\\left (2 \\theta \\right )}\\\\- \\sin{\\left (2 \\theta \\right )} & \\cos{\\left (2 \\theta \\right )}\\end{matrix}\\right]$$"
      ],
      "text/plain": [
       "<IPython.core.display.Math object>"
      ]
     },
     "metadata": {},
     "output_type": "display_data"
    }
   ],
   "source": [
    "m_matrix = qubit_to_matrix(m.doit())\n",
    "display(Math(\"-HU_0HU_f = \"+ latex(m_matrix)+\"=\"+latex(simplify(m_matrix))))"
   ]
  }
 ],
 "metadata": {
  "kernelspec": {
   "display_name": "Python 2",
   "language": "python",
   "name": "python2"
  },
  "language_info": {
   "codemirror_mode": {
    "name": "ipython",
    "version": 2
   },
   "file_extension": ".py",
   "mimetype": "text/x-python",
   "name": "python",
   "nbconvert_exporter": "python",
   "pygments_lexer": "ipython2",
   "version": "2.7.13"
  }
 },
 "nbformat": 4,
 "nbformat_minor": 2
}
