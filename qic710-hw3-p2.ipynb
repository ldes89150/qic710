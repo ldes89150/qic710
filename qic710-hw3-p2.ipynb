{
 "cells": [
  {
   "cell_type": "markdown",
   "metadata": {},
   "source": [
    "# Problem 2\n",
    "\n",
    "## (a)\n",
    "The density matrix of the state is\n",
    "$$\n",
    "\\rho = \\left| \\psi_j \\right > \\left< \\psi_j \\right |\n",
    "$$\n",
    "Performe the corresponding quantum measurement that will result in outcome $j$ with probablity:\n",
    "$$\n",
    "Tr(A_j \\rho A_j^\\dagger)\n",
    "= \\frac{1}{2} Tr(\\left| \\psi_j \\right > \\left< \\psi_j \\right |)\n",
    "=\\frac{1}{2}\n",
    "$$"
   ]
  },
  {
   "cell_type": "markdown",
   "metadata": {},
   "source": [
    "## (b)\n",
    "Considering the fact that the state $\\rho = \\left| \\psi_j \\right > \\left< \\psi_j \\right |$ can be compeletly distinguished in either computational basis or plus/minus basis and indistinguishable in anouther, we know the meausrement will give out $j$ with probability $1/2$ and equal probability ($1/4$) in the basis whcih can not distinguish the state. We thus can find the density matrix after the performing the quantum operation.\n",
    "$$\n",
    "\\sum_i A_i \\rho A_i^{\\dagger}\n",
    "= \\frac{1}{2}\\rho + \\frac{1}{4} I\n",
    "$$\n"
   ]
  },
  {
   "cell_type": "markdown",
   "metadata": {},
   "source": [
    "## (c)\n",
    "#### This is the version before updating the problem.\n",
    "\n",
    "The POVM operator $E_j$ can be factorized into the following form:\n",
    "$$\n",
    "E_j = \\frac{1}{2} \\left| \\psi_j \\right > \\left< \\psi_j \\right | = \n",
    "(\\frac{1}{\\sqrt{2}} \\left| \\psi_j \\right > )(\\frac{1}{\\sqrt{2}}\\left< \\psi_j \\right |)\n",
    "$$\n",
    "Also, we know\n",
    "$$\n",
    "\\frac{1}{2}\\left < \\psi_j \\right | \\rho \\left | \\psi_j \\right > = Tr(E_j \\rho)\n",
    "$$\n",
    "With the similar idea mentioned in the lecture slide, we can construct the unitary matrix $U$\n",
    "$$\n",
    "U = \\frac{1}{\\sqrt{2}}\\begin{pmatrix} \n",
    "\\left < 0 \\right | & \\\\\n",
    "\\left < + \\right | & W\\\\\n",
    "\\left < 1 \\right | & \\\\\n",
    "\\left < - \\right | & \n",
    "\\end{pmatrix} \n",
    "= \\begin{pmatrix} \n",
    "\\frac{1}{\\sqrt{2}} &0 &\\\\\n",
    "\\frac{1}{2}&\\frac{1}{2} &W'\\\\\n",
    "0&\\frac{1}{\\sqrt{2}}& \\\\\n",
    "\\frac{1}{2}&-\\frac{1}{2} &\n",
    "\\end{pmatrix} \n",
    "$$\n",
    "The $W'$ submatrix on the right part of the matrix makes the $U$ be a square and unitary matrix. For instance,\n",
    "$$\n",
    "U = \\begin{pmatrix} \n",
    "\\frac{1}{\\sqrt{2}} &0&\\frac{1}{\\sqrt{2}} &0\\\\\n",
    "\\frac{1}{2}&\\frac{1}{2} &-\\frac{1}{2}&-\\frac{1}{2}\\\\\n",
    "0&\\frac{1}{\\sqrt{2}}&0&\\frac{1}{\\sqrt{2}} \\\\\n",
    "\\frac{1}{2}&-\\frac{1}{2} &-\\frac{1}{2}&\\frac{1}{2}\n",
    "\\end{pmatrix}\n",
    "$$\n",
    "which can be implemented by the following circuit.\n",
    "![](qichw3qc.png)\n",
    "\n"
   ]
  },
  {
   "cell_type": "markdown",
   "metadata": {},
   "source": [
    "#### Verification"
   ]
  },
  {
   "cell_type": "code",
   "execution_count": 1,
   "metadata": {
    "collapsed": true
   },
   "outputs": [],
   "source": [
    "from qutip import *"
   ]
  },
  {
   "cell_type": "code",
   "execution_count": 2,
   "metadata": {},
   "outputs": [
    {
     "data": {
      "text/latex": [
       "Quantum object: dims = [[2, 2], [2, 2]], shape = (4, 4), type = oper, isherm = False\\begin{equation*}\\left(\\begin{array}{*{11}c}0.707 & 0.0 & 0.707 & 0.0\\\\0.500 & 0.500 & -0.500 & -0.500\\\\0.0 & 0.707 & 0.0 & 0.707\\\\0.500 & -0.500 & -0.500 & 0.500\\\\\\end{array}\\right)\\end{equation*}"
      ],
      "text/plain": [
       "Quantum object: dims = [[2, 2], [2, 2]], shape = (4, 4), type = oper, isherm = False\n",
       "Qobj data =\n",
       "[[ 0.70710678  0.          0.70710678  0.        ]\n",
       " [ 0.5         0.5        -0.5        -0.5       ]\n",
       " [ 0.          0.70710678  0.          0.70710678]\n",
       " [ 0.5        -0.5        -0.5         0.5       ]]"
      ]
     },
     "execution_count": 2,
     "metadata": {},
     "output_type": "execute_result"
    }
   ],
   "source": [
    "U = controlled_gate(hadamard_transform(), control=1, target=0)*swap(2)*\\\n",
    "tensor(hadamard_transform(), identity(2));U"
   ]
  }
 ],
 "metadata": {
  "kernelspec": {
   "display_name": "Python 2",
   "language": "python",
   "name": "python2"
  },
  "language_info": {
   "codemirror_mode": {
    "name": "ipython",
    "version": 2
   },
   "file_extension": ".py",
   "mimetype": "text/x-python",
   "name": "python",
   "nbconvert_exporter": "python",
   "pygments_lexer": "ipython2",
   "version": "2.7.13"
  }
 },
 "nbformat": 4,
 "nbformat_minor": 2
}
