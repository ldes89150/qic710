{
 "cells": [
  {
   "cell_type": "markdown",
   "metadata": {},
   "source": [
    "# Problem 1\n",
    "For simplicity, I don't write down the normalization constant in this problem.\n",
    "## (a)\n",
    "After applying the $control-U$ gate, we get\n",
    "$$\n",
    "\\sum_i \\left | i \\right > U^{i} (\\alpha \\left | \\psi \\right >+\\beta\\left | \\phi \\right >)\\\\\n",
    "= \\sum_i (\\alpha \\omega^{ai}+ \\beta \\omega^{bi})\\left | i \\right > (\\alpha \\left | \\psi \\right >+\\beta\\left | \\phi \\right >) \\\\\n",
    "= (\\sum_i \\alpha \\omega^{ai}\\left | i \\right > + \\sum_i  \\beta \\omega^{bi}\\left | i \\right >)(\\alpha \\left | \\psi \\right >+\\beta\\left | \\phi \\right >)\n",
    "$$\n",
    "Apply inverse Fourier transform on the first m qubit.\n",
    "$$\n",
    "(\\alpha \\left | a \\right >+\\beta\\left | b \\right >)(\\alpha \\left | \\psi \\right >+\\beta\\left | \\phi \\right >)\n",
    "$$\n",
    "We have $a$ with probability $|\\alpha|^2$ and $b$ with probability $|\\beta|^2$"
   ]
  },
  {
   "cell_type": "markdown",
   "metadata": {
    "collapsed": true
   },
   "source": [
    "## (b)\n",
    "We can decompose the $U$ in the following form\n",
    "$$\n",
    "U = \\sum_h \\omega^{a_h} \\left | h \\right > \\left < h \\right |\n",
    "$$\n",
    "where the $ \\left | h \\right >$ is the eigen state of $U$.\n",
    "\n",
    "We can write the input state of second register $\\left | \\psi \\right >$ and written interms of $ \\left | h \\right >$.\n",
    "$$\n",
    "\\left | \\psi \\right > = \\sum_h  \\left | h \\right > \\left < h  |\\psi \\right >\n",
    "$$\n",
    "\n",
    "Initially, we have the state\n",
    "$$\n",
    "\\sum_i \\sum_h  \\left | i \\right > \\left | h \\right >  \\left < h  |\\psi \\right >\n",
    "$$\n",
    "After applying the $control-U$ gate, we get\n",
    "$$\n",
    "\\sum_i \\sum_h  \\omega^{a_h i}\\left | i \\right > \\left | h \\right >  \\left < h  |\\psi \\right >\n",
    "$$\n",
    "Apply inverse Fourier transform on the first m qubits.\n",
    "$$\n",
    "\\sum_h  \\left | a_h \\right > \\left | h \\right >  \\left < h  |\\psi \\right >\n",
    "$$\n",
    "\n",
    "By measuring the first m qubits, we have the probablity\n",
    "$$\n",
    "\\sum_h |\\left < h | \\psi \\right > |^2 \\delta_{a_h a_{h'}}\n",
    "$$\n",
    "getting the result $a_{h'}$ on the first m qubits. After the measurement, the state of second register becomes\n",
    "$$\n",
    "\\sum_h \\left | h \\right >  \\left < h  |\\psi \\right > \\delta_{a_h a_{h'}}\n",
    "$$"
   ]
  }
 ],
 "metadata": {
  "kernelspec": {
   "display_name": "Python 2",
   "language": "python",
   "name": "python2"
  },
  "language_info": {
   "codemirror_mode": {
    "name": "ipython",
    "version": 2
   },
   "file_extension": ".py",
   "mimetype": "text/x-python",
   "name": "python",
   "nbconvert_exporter": "python",
   "pygments_lexer": "ipython2",
   "version": "2.7.13"
  }
 },
 "nbformat": 4,
 "nbformat_minor": 2
}
