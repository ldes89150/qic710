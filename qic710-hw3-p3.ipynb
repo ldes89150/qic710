{
 "cells": [
  {
   "cell_type": "code",
   "execution_count": 1,
   "metadata": {
    "collapsed": true
   },
   "outputs": [],
   "source": [
    "from qutip import *"
   ]
  },
  {
   "cell_type": "markdown",
   "metadata": {},
   "source": [
    "# Problem 3\n",
    "## (a)\n",
    "With\n",
    "$$\n",
    "T I T^{-1} = I \\\\\n",
    "T \\sigma_x T^{-1} = \\cos{ \\frac{\\pi}{4}} \\sigma_x + \\sin{\\frac{\\pi}{4}} \\sigma_y \\\\\n",
    "T \\sigma_y T^{-1} = -\\sin{ \\frac{\\pi}{4}} \\sigma_x + \\cos{\\frac{\\pi}{4}} \\sigma_y\\\\\n",
    "T \\sigma_z T^{-1} = \\sigma_z\n",
    "$$\n",
    ", we then have\n",
    "$$\n",
    "r_x ' = \\cos{ \\frac{\\pi}{4}} r_x  - \\sin{ \\frac{\\pi}{4}} r_y \\\\\n",
    "r_y ' = \\sin{\\frac{\\pi}{4}} r_x  + \\cos{\\frac{\\pi}{4}} r_y \\\\\n",
    "r_z ' = r_z\n",
    "$$"
   ]
  },
  {
   "cell_type": "markdown",
   "metadata": {},
   "source": [
    "## (b)\n",
    "With\n",
    "$$\n",
    "A_0 I A_0^{\\dagger} +  A_1 I A_1^{\\dagger}= I + (1-p)\\sigma_z\\\\\n",
    "A_0 \\sigma_x A_0^{\\dagger} +  A_1 \\sigma_x A_1^{\\dagger} = \\sqrt{p} \\sigma_x\\\\\n",
    "A_0 \\sigma_y A_0^{\\dagger} +  A_1 \\sigma_y A_1^{\\dagger} = \\sqrt{p} \\sigma_y\\\\\n",
    "A_0 \\sigma_z A_0^{\\dagger} +  A_1 \\sigma_z A_1^{\\dagger} = p \\sigma_z\n",
    "$$\n",
    ", we then have\n",
    "$$\n",
    "r_x ' = \\sqrt{p} r_x \\\\\n",
    "r_y ' = \\sqrt{p}r_y \\\\\n",
    "r_z ' = (1-p)+p r_z\n",
    "$$"
   ]
  },
  {
   "cell_type": "markdown",
   "metadata": {
    "collapsed": true
   },
   "source": [
    "## (c)\n",
    "Let's examine this linear transformation works on the Bell state.\n",
    "\n",
    "First we write down the density matrix of the Bell state in terms series of tensor products of identity and pauli matrixes.\n",
    "$$\n",
    "\\rho = \\frac{1}{4} (I \\otimes I + Z \\otimes Z + X \\otimes X - Y \\otimes Y)\n",
    "$$"
   ]
  },
  {
   "cell_type": "markdown",
   "metadata": {},
   "source": [
    "By applying the transformation on qubit 1, we add minus signs on the terms whose first matrix of the tensor product is not identity matrix. After the transformation, we have:\n",
    "$$\n",
    "\\rho ' = \\frac{1}{4} (I \\otimes I - Z \\otimes Z - X \\otimes X + Y \\otimes Y)\n",
    "$$"
   ]
  },
  {
   "cell_type": "code",
   "execution_count": 5,
   "metadata": {},
   "outputs": [
    {
     "data": {
      "text/latex": [
       "Quantum object: dims = [[2, 2], [2, 2]], shape = (4, 4), type = oper, isherm = True\\begin{equation*}\\left(\\begin{array}{*{11}c}0.0 & 0.0 & 0.0 & -0.500\\\\0.0 & 0.500 & 0.0 & 0.0\\\\0.0 & 0.0 & 0.500 & 0.0\\\\-0.500 & 0.0 & 0.0 & 0.0\\\\\\end{array}\\right)\\end{equation*}"
      ],
      "text/plain": [
       "Quantum object: dims = [[2, 2], [2, 2]], shape = (4, 4), type = oper, isherm = True\n",
       "Qobj data =\n",
       "[[ 0.   0.   0.  -0.5]\n",
       " [ 0.   0.5  0.   0. ]\n",
       " [ 0.   0.   0.5  0. ]\n",
       " [-0.5  0.   0.   0. ]]"
      ]
     },
     "execution_count": 5,
     "metadata": {},
     "output_type": "execute_result"
    }
   ],
   "source": [
    "# print out the rho'\n",
    "rho_after = 0.25*(-tensor(sigmax(),sigmax())+tensor(sigmay(),sigmay())-tensor(sigmaz(),sigmaz())+\\\n",
    "            tensor(identity(2), identity(2))); rho_after"
   ]
  },
  {
   "cell_type": "markdown",
   "metadata": {},
   "source": [
    "Solve for the eigen values of $\\rho'$"
   ]
  },
  {
   "cell_type": "code",
   "execution_count": 6,
   "metadata": {},
   "outputs": [
    {
     "data": {
      "text/plain": [
       "array([-0.5,  0.5,  0.5,  0.5])"
      ]
     },
     "execution_count": 6,
     "metadata": {},
     "output_type": "execute_result"
    }
   ],
   "source": [
    "rho_after.eigenenergies()"
   ]
  },
  {
   "cell_type": "markdown",
   "metadata": {},
   "source": [
    "We can find that eigen values are $+0.5$ and $-0.5$. Thus, $\\rho '$ is not positive, and the transformation is not a valid quantum operation."
   ]
  }
 ],
 "metadata": {
  "kernelspec": {
   "display_name": "Python 2",
   "language": "python",
   "name": "python2"
  },
  "language_info": {
   "codemirror_mode": {
    "name": "ipython",
    "version": 2
   },
   "file_extension": ".py",
   "mimetype": "text/x-python",
   "name": "python",
   "nbconvert_exporter": "python",
   "pygments_lexer": "ipython2",
   "version": "2.7.13"
  }
 },
 "nbformat": 4,
 "nbformat_minor": 2
}
