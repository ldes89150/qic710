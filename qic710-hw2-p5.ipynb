{
 "cells": [
  {
   "cell_type": "markdown",
   "metadata": {},
   "source": [
    "# Problem 5\n",
    "For simplicity, I don't show normalization constants of states in this problem.\n",
    "\n",
    "From\n",
    "$$\n",
    "r_1 x_1 +r_2 x_2 = \\lambda\n",
    "$$\n",
    ", we have\n",
    "$$\n",
    "f(x_1, x_2)=f(x_1- r_2, x_2+ r_1)\n",
    "$$\n",
    "\n",
    "We first expand the state $ {\\left | f(x) \\right >}$ in fourier basis.\n",
    "$$\n",
    "\\sum^{m-1}_{x_1 = 0} \\sum^{m-1}_{x_2 = 0} {\\left | x_1 \\right >} {\\left | x_2 \\right >}  {\\left | f(x) \\right >} \\\\\n",
    "=  \\sum^{m-1}_{x_1 = 0} \\sum^{m-1}_{x_2 = 0}\\sum^{m-1}_{k_1 = 0} \\sum^{m-1}_{k_2 = 0} e^{\\frac{2\\pi i }{m}(k_1 x_1 + k_2 x_2)}  {\\left | x_1 \\right >} {\\left | x_2 \\right >}{\\left | \\hat{f}(k_1, k_2) \\right >}\n",
    "$$\n",
    "\n",
    "The amplitute of ${\\left | \\hat{f}(k) \\right >}$ is nearly zero unless $(k_1, k_2)(-r_2, r_1) \\equiv 0 {\\mod m}$.\n",
    "\n",
    "\n",
    "So the equation can be rewrite as the following way:\n",
    "$$\n",
    " \\sum^{m-1}_{k_1 = 0} \\sum^{m-1}_{x_1 = 0} \\sum^{m-1}_{x_2 = 0} \n",
    "e^{\\frac{2\\pi i }{m}k_1(x_1 +r_1^{-1} r_2 x_2)}\n",
    "{\\left | x_1 \\right >} {\\left | x_2 \\right >}{\\left | \\hat{f}(k_1) \\right >}\n",
    "$$"
   ]
  },
  {
   "cell_type": "markdown",
   "metadata": {},
   "source": [
    "After applying inverse Fourier transform, we now have\n",
    "$$\n",
    "\\sum^{m-1}_{k_1 = 0} \\left| k_1 \\right> \\left| k_1r_1^{-1} r_2 \\right > {\\left | \\hat{f}(k_1) \\right >}\\\\\n",
    "= \\sum^{m-1}_{k = 0} \\left| k r_1 \\right> \\left| k  r_2 \\right > {\\left | \\hat{f}(k) \\right >}\\\\\n",
    "$$\n",
    "We can thus get $r_1$ and $r_2$. However, $\\lambda$ is unobtainable."
   ]
  },
  {
   "cell_type": "markdown",
   "metadata": {},
   "source": [
    "## Alternative Solution\n",
    "For simplicity, I don't show normalization constants of states in this problem.\n",
    "\n",
    "From \n",
    "$$\n",
    "r_1 x_1 +r_2 x_2 = \\lambda\n",
    "$$\n",
    ", we have\n",
    "$$\n",
    "x_2 = r_2^{-1}(\\lambda - r_1 x_1)\n",
    "$$\n",
    "\n",
    "Substitute it into the state before applying inverse Fourier transform.\n",
    "$$\n",
    "\\sum_{\\lambda = 0}^{m-1}\\sum^{m-1}_{x_1 = 0} \\sum^{m-1}_{x_2 = 0} {\\left | x_1 \\right >} {\\left | x_2 \\right >}  {\\left | f(\\lambda) \\right >} \\\\\n",
    "=\\sum_{\\lambda = 0}^{m-1}\\sum^{m-1}_{x_1 = 0}  {\\left | x_1 \\right >} {\\left | r_2^{-1}(\\lambda - r_1 x_1) \\right >}  {\\left | f(\\lambda) \\right >} \n",
    "$$\n",
    "After applying inverse Fourier transform, we now have\n",
    "$$\n",
    "\\sum^{m-1}_{x_1 = 0}\\sum_{\\lambda = 0}^{m-1}\\sum^{m-1}_{k_1 = 0}\\sum^{m-1}_{k_2 = 0}\n",
    "e^{\\frac{i 2 \\pi k_1 x_1}{m}}e^{\\frac{i 2 \\pi k_2  r_2^{-1}(\\lambda - r_1 x_1)}{m}}\n",
    "\\left| k_1 \\right> \\left| k_2 \\right >{\\left | f(\\lambda) \\right >}\\\\\n",
    "=\n",
    "\\sum^{m-1}_{x_1 = 0}\\sum_{\\lambda = 0}^{m-1}\\sum^{m-1}_{k_1 = 0}\\sum^{m-1}_{k_2 = 0}\n",
    "e^{\\frac{i 2 \\pi k_2 \\lambda}{m}}e^{\\frac{i 2 \\pi x_1  r_2^{-1}(k_1 r_2 - r_1 k_2)}{m}}\n",
    "\\left| k_1 \\right> \\left| k_2 \\right >{\\left | f(\\lambda) \\right >}\n",
    "$$\n",
    "By summing over $x_1$, only the term with $(k_1, k_2)(-r_2, r_1) \\equiv 0 {\\mod m}$ would survive.\n",
    "We can thus get $r_1$ and $r_2$. However, $\\lambda$ is unobtainable."
   ]
  }
 ],
 "metadata": {
  "kernelspec": {
   "display_name": "Python 2",
   "language": "python",
   "name": "python2"
  },
  "language_info": {
   "codemirror_mode": {
    "name": "ipython",
    "version": 2
   },
   "file_extension": ".py",
   "mimetype": "text/x-python",
   "name": "python",
   "nbconvert_exporter": "python",
   "pygments_lexer": "ipython2",
   "version": "2.7.13"
  }
 },
 "nbformat": 4,
 "nbformat_minor": 2
}
